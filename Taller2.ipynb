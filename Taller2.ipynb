{
 "cells": [
  {
   "cell_type": "markdown",
   "id": "f5fe035c-8000-45ba-a484-a8f2e5563d02",
   "metadata": {},
   "source": [
    "# Taller 2: Machine Learning Supervisado\n",
    "\n",
    "Jose Julian Sanabria Mejia <br> Cod: 202224837 <br> jj.sanabria@uniandes.edu.co\n",
    "\n",
    "MINE-4101: Ciencia de Dato Aplicada <br> Univerisdad de los Andes\n",
    "\n",
    "Dataset: Data_Taller_2.csv\n",
    "\n",
    "Última Actualización: September, 2022"
   ]
  },
  {
   "cell_type": "code",
   "execution_count": null,
   "id": "dd91e551-eb99-4083-9df1-e90fbc2f2d02",
   "metadata": {},
   "outputs": [],
   "source": []
  }
 ],
 "metadata": {
  "kernelspec": {
   "display_name": "Python 3 (ipykernel)",
   "language": "python",
   "name": "python3"
  },
  "language_info": {
   "codemirror_mode": {
    "name": "ipython",
    "version": 3
   },
   "file_extension": ".py",
   "mimetype": "text/x-python",
   "name": "python",
   "nbconvert_exporter": "python",
   "pygments_lexer": "ipython3",
   "version": "3.9.12"
  }
 },
 "nbformat": 4,
 "nbformat_minor": 5
}
