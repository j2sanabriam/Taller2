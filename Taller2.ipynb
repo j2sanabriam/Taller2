{
 "cells": [
  {
   "cell_type": "markdown",
   "id": "f5fe035c-8000-45ba-a484-a8f2e5563d02",
   "metadata": {},
   "source": [
    "# Taller 2: Machine Learning Supervisado\n",
    "\n",
    "Jose Julian Sanabria Mejia <br> Cod: 202224837 <br> jj.sanabria@uniandes.edu.co\n",
    "\n",
    "MINE-4101: Ciencia de Dato Aplicada <br> Univerisdad de los Andes\n",
    "\n",
    "Dataset: Data_Taller_2.csv\n",
    "\n",
    "Última Actualización: September, 2022"
   ]
  },
  {
   "cell_type": "code",
   "execution_count": 63,
   "id": "dd91e551-eb99-4083-9df1-e90fbc2f2d02",
   "metadata": {},
   "outputs": [],
   "source": [
    "# Importar librerías\n",
    "import pandas as pd\n",
    "import numpy as np\n",
    "from datetime import datetime\n",
    "\n",
    "from sklearn.model_selection import train_test_split\n",
    "from sklearn.preprocessing import StandardScaler\n",
    "from sklearn.linear_model import LinearRegression\n",
    "from sklearn.metrics import mean_squared_error, mean_absolute_error\n",
    "from sklearn.preprocessing import PolynomialFeatures\n",
    "from sklearn.linear_model import Ridge\n",
    "from sklearn.preprocessing import OneHotEncoder\n",
    "from sklearn.compose import ColumnTransformer\n",
    "\n",
    "import matplotlib.pyplot as plt\n",
    "import seaborn as sns"
   ]
  },
  {
   "cell_type": "code",
   "execution_count": 2,
   "id": "1377511c-49fe-464e-9e9c-8ed5aabe303d",
   "metadata": {},
   "outputs": [],
   "source": [
    "# Configuración de Panadas para extender el número de filas y columnas a visualizar\n",
    "pd.set_option('display.max_rows', 100)\n",
    "pd.set_option('display.max_columns', 100)"
   ]
  },
  {
   "cell_type": "markdown",
   "id": "1313c916-d1ee-47bf-9508-d87080409069",
   "metadata": {},
   "source": [
    "## Cargo y reviso data"
   ]
  },
  {
   "cell_type": "code",
   "execution_count": 131,
   "id": "2c2b5943-a0fa-4481-8505-dc27a5862a06",
   "metadata": {},
   "outputs": [],
   "source": [
    "# Carga del archivo CSV como DataFrame de Pandas\n",
    "df = pd.read_csv('./data/Data_Taller_2.csv', sep=';')"
   ]
  },
  {
   "cell_type": "code",
   "execution_count": 132,
   "id": "ecd16d2a-a4d2-4c2d-96a1-b828b0fad703",
   "metadata": {},
   "outputs": [
    {
     "data": {
      "text/plain": [
       "(731, 12)"
      ]
     },
     "execution_count": 132,
     "metadata": {},
     "output_type": "execute_result"
    }
   ],
   "source": [
    "# Describe las dimensiones del DataFrame\n",
    "df.shape"
   ]
  },
  {
   "cell_type": "code",
   "execution_count": 133,
   "id": "979f7dc3-ae25-4a40-8a96-56f715a9fb71",
   "metadata": {},
   "outputs": [
    {
     "data": {
      "text/plain": [
       "instant        int64\n",
       "Date          object\n",
       "Season        object\n",
       "Holiday       object\n",
       "Weather       object\n",
       "Temp          object\n",
       "Feel_Temp     object\n",
       "Hum           object\n",
       "Wind          object\n",
       "Casual         int64\n",
       "Registered     int64\n",
       "cnt            int64\n",
       "dtype: object"
      ]
     },
     "execution_count": 133,
     "metadata": {},
     "output_type": "execute_result"
    }
   ],
   "source": [
    "# Describe las columnas y su tipo del DataFrame cargado\n",
    "df.dtypes"
   ]
  },
  {
   "cell_type": "code",
   "execution_count": 134,
   "id": "f6cf5735-8479-4b91-96c2-de0915248d6c",
   "metadata": {},
   "outputs": [
    {
     "data": {
      "text/html": [
       "<div>\n",
       "<style scoped>\n",
       "    .dataframe tbody tr th:only-of-type {\n",
       "        vertical-align: middle;\n",
       "    }\n",
       "\n",
       "    .dataframe tbody tr th {\n",
       "        vertical-align: top;\n",
       "    }\n",
       "\n",
       "    .dataframe thead th {\n",
       "        text-align: right;\n",
       "    }\n",
       "</style>\n",
       "<table border=\"1\" class=\"dataframe\">\n",
       "  <thead>\n",
       "    <tr style=\"text-align: right;\">\n",
       "      <th></th>\n",
       "      <th>instant</th>\n",
       "      <th>Date</th>\n",
       "      <th>Season</th>\n",
       "      <th>Holiday</th>\n",
       "      <th>Weather</th>\n",
       "      <th>Temp</th>\n",
       "      <th>Feel_Temp</th>\n",
       "      <th>Hum</th>\n",
       "      <th>Wind</th>\n",
       "      <th>Casual</th>\n",
       "      <th>Registered</th>\n",
       "      <th>cnt</th>\n",
       "    </tr>\n",
       "  </thead>\n",
       "  <tbody>\n",
       "    <tr>\n",
       "      <th>0</th>\n",
       "      <td>1</td>\n",
       "      <td>1/01/2020</td>\n",
       "      <td>Springer</td>\n",
       "      <td>No</td>\n",
       "      <td>Mist + Cloudy</td>\n",
       "      <td>8,175849</td>\n",
       "      <td>9,090375</td>\n",
       "      <td>0,805833</td>\n",
       "      <td>10,749882</td>\n",
       "      <td>331</td>\n",
       "      <td>654</td>\n",
       "      <td>985</td>\n",
       "    </tr>\n",
       "    <tr>\n",
       "      <th>1</th>\n",
       "      <td>2</td>\n",
       "      <td>2/01/2020</td>\n",
       "      <td>Springer</td>\n",
       "      <td>No</td>\n",
       "      <td>Mist + Cloudy</td>\n",
       "      <td>9,083466</td>\n",
       "      <td>8,625733</td>\n",
       "      <td>0,696087</td>\n",
       "      <td>-16,652113</td>\n",
       "      <td>131</td>\n",
       "      <td>670</td>\n",
       "      <td>801</td>\n",
       "    </tr>\n",
       "    <tr>\n",
       "      <th>2</th>\n",
       "      <td>3</td>\n",
       "      <td>3/01/2020</td>\n",
       "      <td>Springer</td>\n",
       "      <td>No</td>\n",
       "      <td>Few clouds</td>\n",
       "      <td>1,229108</td>\n",
       "      <td>0,902035</td>\n",
       "      <td>0,437273</td>\n",
       "      <td>16,636703</td>\n",
       "      <td>120</td>\n",
       "      <td>1229</td>\n",
       "      <td>1349</td>\n",
       "    </tr>\n",
       "    <tr>\n",
       "      <th>3</th>\n",
       "      <td>4</td>\n",
       "      <td>4/01/2020</td>\n",
       "      <td>Springer</td>\n",
       "      <td>No</td>\n",
       "      <td>Few clouds</td>\n",
       "      <td>1,4</td>\n",
       "      <td>1,969734</td>\n",
       "      <td>0,590435</td>\n",
       "      <td>10,739832</td>\n",
       "      <td>108</td>\n",
       "      <td>1454</td>\n",
       "      <td>1562</td>\n",
       "    </tr>\n",
       "    <tr>\n",
       "      <th>4</th>\n",
       "      <td>5</td>\n",
       "      <td>5/01/2020</td>\n",
       "      <td>Springer</td>\n",
       "      <td>No</td>\n",
       "      <td>Partly    cloudy</td>\n",
       "      <td>2,666979</td>\n",
       "      <td>2,77569</td>\n",
       "      <td>0,436957</td>\n",
       "      <td>12,5223</td>\n",
       "      <td>82</td>\n",
       "      <td>1518</td>\n",
       "      <td>1600</td>\n",
       "    </tr>\n",
       "    <tr>\n",
       "      <th>...</th>\n",
       "      <td>...</td>\n",
       "      <td>...</td>\n",
       "      <td>...</td>\n",
       "      <td>...</td>\n",
       "      <td>...</td>\n",
       "      <td>...</td>\n",
       "      <td>...</td>\n",
       "      <td>...</td>\n",
       "      <td>...</td>\n",
       "      <td>...</td>\n",
       "      <td>...</td>\n",
       "      <td>...</td>\n",
       "    </tr>\n",
       "    <tr>\n",
       "      <th>726</th>\n",
       "      <td>727</td>\n",
       "      <td>27/12/2021</td>\n",
       "      <td>Springer</td>\n",
       "      <td>No</td>\n",
       "      <td>Mist + Cloudy</td>\n",
       "      <td>3,945849</td>\n",
       "      <td>2,652174</td>\n",
       "      <td>0,652917</td>\n",
       "      <td>23,458911</td>\n",
       "      <td>247</td>\n",
       "      <td>1867</td>\n",
       "      <td>2114</td>\n",
       "    </tr>\n",
       "    <tr>\n",
       "      <th>727</th>\n",
       "      <td>728</td>\n",
       "      <td>28/12/2021</td>\n",
       "      <td>Springer</td>\n",
       "      <td>No</td>\n",
       "      <td>Mist + Few clouds</td>\n",
       "      <td>3,906651</td>\n",
       "      <td>3,987162</td>\n",
       "      <td>0,59</td>\n",
       "      <td>10,416557</td>\n",
       "      <td>644</td>\n",
       "      <td>2451</td>\n",
       "      <td>3095</td>\n",
       "    </tr>\n",
       "    <tr>\n",
       "      <th>728</th>\n",
       "      <td>729</td>\n",
       "      <td>29/12/2021</td>\n",
       "      <td>Springer</td>\n",
       "      <td>No</td>\n",
       "      <td>Mist</td>\n",
       "      <td>3,906651</td>\n",
       "      <td>3,3928</td>\n",
       "      <td>0,752917</td>\n",
       "      <td>8,333661</td>\n",
       "      <td>159</td>\n",
       "      <td>1182</td>\n",
       "      <td>1341</td>\n",
       "    </tr>\n",
       "    <tr>\n",
       "      <th>729</th>\n",
       "      <td>730</td>\n",
       "      <td>30/12/2021</td>\n",
       "      <td>Springer</td>\n",
       "      <td>No</td>\n",
       "      <td>Few clouds</td>\n",
       "      <td>4,024151</td>\n",
       "      <td>2,8899</td>\n",
       "      <td>0,483333</td>\n",
       "      <td>23,500518</td>\n",
       "      <td>364</td>\n",
       "      <td>1432</td>\n",
       "      <td>1796</td>\n",
       "    </tr>\n",
       "    <tr>\n",
       "      <th>730</th>\n",
       "      <td>731</td>\n",
       "      <td>31/12/2021</td>\n",
       "      <td>Springer</td>\n",
       "      <td>No</td>\n",
       "      <td>Mist + Few clouds</td>\n",
       "      <td>2,144151</td>\n",
       "      <td>2,503889</td>\n",
       "      <td>0,5775</td>\n",
       "      <td>10,374682</td>\n",
       "      <td>439</td>\n",
       "      <td>2290</td>\n",
       "      <td>2729</td>\n",
       "    </tr>\n",
       "  </tbody>\n",
       "</table>\n",
       "<p>731 rows × 12 columns</p>\n",
       "</div>"
      ],
      "text/plain": [
       "     instant        Date    Season Holiday            Weather      Temp  \\\n",
       "0          1   1/01/2020  Springer      No      Mist + Cloudy  8,175849   \n",
       "1          2   2/01/2020  Springer      No      Mist + Cloudy  9,083466   \n",
       "2          3   3/01/2020  Springer      No         Few clouds  1,229108   \n",
       "3          4   4/01/2020  Springer      No         Few clouds       1,4   \n",
       "4          5   5/01/2020  Springer      No   Partly    cloudy  2,666979   \n",
       "..       ...         ...       ...     ...                ...       ...   \n",
       "726      727  27/12/2021  Springer      No      Mist + Cloudy  3,945849   \n",
       "727      728  28/12/2021  Springer      No  Mist + Few clouds  3,906651   \n",
       "728      729  29/12/2021  Springer      No               Mist  3,906651   \n",
       "729      730  30/12/2021  Springer      No         Few clouds  4,024151   \n",
       "730      731  31/12/2021  Springer      No  Mist + Few clouds  2,144151   \n",
       "\n",
       "    Feel_Temp       Hum        Wind  Casual  Registered   cnt  \n",
       "0    9,090375  0,805833   10,749882     331         654   985  \n",
       "1    8,625733  0,696087  -16,652113     131         670   801  \n",
       "2    0,902035  0,437273   16,636703     120        1229  1349  \n",
       "3    1,969734  0,590435   10,739832     108        1454  1562  \n",
       "4     2,77569  0,436957     12,5223      82        1518  1600  \n",
       "..        ...       ...         ...     ...         ...   ...  \n",
       "726  2,652174  0,652917   23,458911     247        1867  2114  \n",
       "727  3,987162      0,59   10,416557     644        2451  3095  \n",
       "728    3,3928  0,752917    8,333661     159        1182  1341  \n",
       "729    2,8899  0,483333   23,500518     364        1432  1796  \n",
       "730  2,503889    0,5775   10,374682     439        2290  2729  \n",
       "\n",
       "[731 rows x 12 columns]"
      ]
     },
     "execution_count": 134,
     "metadata": {},
     "output_type": "execute_result"
    }
   ],
   "source": [
    "df"
   ]
  },
  {
   "cell_type": "markdown",
   "id": "6f604557-f6b0-40ae-8a97-26f3127c1a21",
   "metadata": {},
   "source": [
    "## Limpieza y preparación de datos"
   ]
  },
  {
   "cell_type": "code",
   "execution_count": 135,
   "id": "f1249b59-8cbc-41a2-b242-d4e254a6280c",
   "metadata": {},
   "outputs": [],
   "source": [
    "# Crear una expresion lambda para transformar Date\n",
    "dateparse = lambda x: datetime.strptime(x, \"%d/%m/%Y\").date()"
   ]
  },
  {
   "cell_type": "code",
   "execution_count": 136,
   "id": "9f52667d-6943-4950-aaa6-e124fb32a40d",
   "metadata": {},
   "outputs": [
    {
     "ename": "ValueError",
     "evalue": "day is out of range for month",
     "output_type": "error",
     "traceback": [
      "\u001b[1;31m---------------------------------------------------------------------------\u001b[0m",
      "\u001b[1;31mValueError\u001b[0m                                Traceback (most recent call last)",
      "Input \u001b[1;32mIn [136]\u001b[0m, in \u001b[0;36m<cell line: 2>\u001b[1;34m()\u001b[0m\n\u001b[0;32m      1\u001b[0m \u001b[38;5;66;03m# Aplicar lamda a todos los valores en la columna Date\u001b[39;00m\n\u001b[1;32m----> 2\u001b[0m \u001b[43mdf\u001b[49m\u001b[43m[\u001b[49m\u001b[38;5;124;43m\"\u001b[39;49m\u001b[38;5;124;43mDate\u001b[39;49m\u001b[38;5;124;43m\"\u001b[39;49m\u001b[43m]\u001b[49m\u001b[38;5;241;43m.\u001b[39;49m\u001b[43mapply\u001b[49m\u001b[43m(\u001b[49m\u001b[43mdateparse\u001b[49m\u001b[43m)\u001b[49m\n",
      "File \u001b[1;32m~\\anaconda3\\envs\\cda_talleres\\lib\\site-packages\\pandas\\core\\series.py:4433\u001b[0m, in \u001b[0;36mSeries.apply\u001b[1;34m(self, func, convert_dtype, args, **kwargs)\u001b[0m\n\u001b[0;32m   4323\u001b[0m \u001b[38;5;28;01mdef\u001b[39;00m \u001b[38;5;21mapply\u001b[39m(\n\u001b[0;32m   4324\u001b[0m     \u001b[38;5;28mself\u001b[39m,\n\u001b[0;32m   4325\u001b[0m     func: AggFuncType,\n\u001b[1;32m   (...)\u001b[0m\n\u001b[0;32m   4328\u001b[0m     \u001b[38;5;241m*\u001b[39m\u001b[38;5;241m*\u001b[39mkwargs,\n\u001b[0;32m   4329\u001b[0m ) \u001b[38;5;241m-\u001b[39m\u001b[38;5;241m>\u001b[39m DataFrame \u001b[38;5;241m|\u001b[39m Series:\n\u001b[0;32m   4330\u001b[0m     \u001b[38;5;124;03m\"\"\"\u001b[39;00m\n\u001b[0;32m   4331\u001b[0m \u001b[38;5;124;03m    Invoke function on values of Series.\u001b[39;00m\n\u001b[0;32m   4332\u001b[0m \n\u001b[1;32m   (...)\u001b[0m\n\u001b[0;32m   4431\u001b[0m \u001b[38;5;124;03m    dtype: float64\u001b[39;00m\n\u001b[0;32m   4432\u001b[0m \u001b[38;5;124;03m    \"\"\"\u001b[39;00m\n\u001b[1;32m-> 4433\u001b[0m     \u001b[38;5;28;01mreturn\u001b[39;00m \u001b[43mSeriesApply\u001b[49m\u001b[43m(\u001b[49m\u001b[38;5;28;43mself\u001b[39;49m\u001b[43m,\u001b[49m\u001b[43m \u001b[49m\u001b[43mfunc\u001b[49m\u001b[43m,\u001b[49m\u001b[43m \u001b[49m\u001b[43mconvert_dtype\u001b[49m\u001b[43m,\u001b[49m\u001b[43m \u001b[49m\u001b[43margs\u001b[49m\u001b[43m,\u001b[49m\u001b[43m \u001b[49m\u001b[43mkwargs\u001b[49m\u001b[43m)\u001b[49m\u001b[38;5;241;43m.\u001b[39;49m\u001b[43mapply\u001b[49m\u001b[43m(\u001b[49m\u001b[43m)\u001b[49m\n",
      "File \u001b[1;32m~\\anaconda3\\envs\\cda_talleres\\lib\\site-packages\\pandas\\core\\apply.py:1088\u001b[0m, in \u001b[0;36mSeriesApply.apply\u001b[1;34m(self)\u001b[0m\n\u001b[0;32m   1084\u001b[0m \u001b[38;5;28;01mif\u001b[39;00m \u001b[38;5;28misinstance\u001b[39m(\u001b[38;5;28mself\u001b[39m\u001b[38;5;241m.\u001b[39mf, \u001b[38;5;28mstr\u001b[39m):\n\u001b[0;32m   1085\u001b[0m     \u001b[38;5;66;03m# if we are a string, try to dispatch\u001b[39;00m\n\u001b[0;32m   1086\u001b[0m     \u001b[38;5;28;01mreturn\u001b[39;00m \u001b[38;5;28mself\u001b[39m\u001b[38;5;241m.\u001b[39mapply_str()\n\u001b[1;32m-> 1088\u001b[0m \u001b[38;5;28;01mreturn\u001b[39;00m \u001b[38;5;28;43mself\u001b[39;49m\u001b[38;5;241;43m.\u001b[39;49m\u001b[43mapply_standard\u001b[49m\u001b[43m(\u001b[49m\u001b[43m)\u001b[49m\n",
      "File \u001b[1;32m~\\anaconda3\\envs\\cda_talleres\\lib\\site-packages\\pandas\\core\\apply.py:1143\u001b[0m, in \u001b[0;36mSeriesApply.apply_standard\u001b[1;34m(self)\u001b[0m\n\u001b[0;32m   1137\u001b[0m         values \u001b[38;5;241m=\u001b[39m obj\u001b[38;5;241m.\u001b[39mastype(\u001b[38;5;28mobject\u001b[39m)\u001b[38;5;241m.\u001b[39m_values\n\u001b[0;32m   1138\u001b[0m         \u001b[38;5;66;03m# error: Argument 2 to \"map_infer\" has incompatible type\u001b[39;00m\n\u001b[0;32m   1139\u001b[0m         \u001b[38;5;66;03m# \"Union[Callable[..., Any], str, List[Union[Callable[..., Any], str]],\u001b[39;00m\n\u001b[0;32m   1140\u001b[0m         \u001b[38;5;66;03m# Dict[Hashable, Union[Union[Callable[..., Any], str],\u001b[39;00m\n\u001b[0;32m   1141\u001b[0m         \u001b[38;5;66;03m# List[Union[Callable[..., Any], str]]]]]\"; expected\u001b[39;00m\n\u001b[0;32m   1142\u001b[0m         \u001b[38;5;66;03m# \"Callable[[Any], Any]\"\u001b[39;00m\n\u001b[1;32m-> 1143\u001b[0m         mapped \u001b[38;5;241m=\u001b[39m \u001b[43mlib\u001b[49m\u001b[38;5;241;43m.\u001b[39;49m\u001b[43mmap_infer\u001b[49m\u001b[43m(\u001b[49m\n\u001b[0;32m   1144\u001b[0m \u001b[43m            \u001b[49m\u001b[43mvalues\u001b[49m\u001b[43m,\u001b[49m\n\u001b[0;32m   1145\u001b[0m \u001b[43m            \u001b[49m\u001b[43mf\u001b[49m\u001b[43m,\u001b[49m\u001b[43m  \u001b[49m\u001b[38;5;66;43;03m# type: ignore[arg-type]\u001b[39;49;00m\n\u001b[0;32m   1146\u001b[0m \u001b[43m            \u001b[49m\u001b[43mconvert\u001b[49m\u001b[38;5;241;43m=\u001b[39;49m\u001b[38;5;28;43mself\u001b[39;49m\u001b[38;5;241;43m.\u001b[39;49m\u001b[43mconvert_dtype\u001b[49m\u001b[43m,\u001b[49m\n\u001b[0;32m   1147\u001b[0m \u001b[43m        \u001b[49m\u001b[43m)\u001b[49m\n\u001b[0;32m   1149\u001b[0m \u001b[38;5;28;01mif\u001b[39;00m \u001b[38;5;28mlen\u001b[39m(mapped) \u001b[38;5;129;01mand\u001b[39;00m \u001b[38;5;28misinstance\u001b[39m(mapped[\u001b[38;5;241m0\u001b[39m], ABCSeries):\n\u001b[0;32m   1150\u001b[0m     \u001b[38;5;66;03m# GH#43986 Need to do list(mapped) in order to get treated as nested\u001b[39;00m\n\u001b[0;32m   1151\u001b[0m     \u001b[38;5;66;03m#  See also GH#25959 regarding EA support\u001b[39;00m\n\u001b[0;32m   1152\u001b[0m     \u001b[38;5;28;01mreturn\u001b[39;00m obj\u001b[38;5;241m.\u001b[39m_constructor_expanddim(\u001b[38;5;28mlist\u001b[39m(mapped), index\u001b[38;5;241m=\u001b[39mobj\u001b[38;5;241m.\u001b[39mindex)\n",
      "File \u001b[1;32m~\\anaconda3\\envs\\cda_talleres\\lib\\site-packages\\pandas\\_libs\\lib.pyx:2870\u001b[0m, in \u001b[0;36mpandas._libs.lib.map_infer\u001b[1;34m()\u001b[0m\n",
      "Input \u001b[1;32mIn [135]\u001b[0m, in \u001b[0;36m<lambda>\u001b[1;34m(x)\u001b[0m\n\u001b[0;32m      1\u001b[0m \u001b[38;5;66;03m# Crear una expresion lambda para transformar Date\u001b[39;00m\n\u001b[1;32m----> 2\u001b[0m dateparse \u001b[38;5;241m=\u001b[39m \u001b[38;5;28;01mlambda\u001b[39;00m x: \u001b[43mdatetime\u001b[49m\u001b[38;5;241;43m.\u001b[39;49m\u001b[43mstrptime\u001b[49m\u001b[43m(\u001b[49m\u001b[43mx\u001b[49m\u001b[43m,\u001b[49m\u001b[43m \u001b[49m\u001b[38;5;124;43m\"\u001b[39;49m\u001b[38;5;132;43;01m%d\u001b[39;49;00m\u001b[38;5;124;43m/\u001b[39;49m\u001b[38;5;124;43m%\u001b[39;49m\u001b[38;5;124;43mm/\u001b[39;49m\u001b[38;5;124;43m%\u001b[39;49m\u001b[38;5;124;43mY\u001b[39;49m\u001b[38;5;124;43m\"\u001b[39;49m\u001b[43m)\u001b[49m\u001b[38;5;241m.\u001b[39mdate()\n",
      "File \u001b[1;32m~\\anaconda3\\envs\\cda_talleres\\lib\\_strptime.py:568\u001b[0m, in \u001b[0;36m_strptime_datetime\u001b[1;34m(cls, data_string, format)\u001b[0m\n\u001b[0;32m    565\u001b[0m \u001b[38;5;28;01mdef\u001b[39;00m \u001b[38;5;21m_strptime_datetime\u001b[39m(\u001b[38;5;28mcls\u001b[39m, data_string, \u001b[38;5;28mformat\u001b[39m\u001b[38;5;241m=\u001b[39m\u001b[38;5;124m\"\u001b[39m\u001b[38;5;132;01m%a\u001b[39;00m\u001b[38;5;124m \u001b[39m\u001b[38;5;124m%\u001b[39m\u001b[38;5;124mb \u001b[39m\u001b[38;5;132;01m%d\u001b[39;00m\u001b[38;5;124m \u001b[39m\u001b[38;5;124m%\u001b[39m\u001b[38;5;124mH:\u001b[39m\u001b[38;5;124m%\u001b[39m\u001b[38;5;124mM:\u001b[39m\u001b[38;5;124m%\u001b[39m\u001b[38;5;124mS \u001b[39m\u001b[38;5;124m%\u001b[39m\u001b[38;5;124mY\u001b[39m\u001b[38;5;124m\"\u001b[39m):\n\u001b[0;32m    566\u001b[0m     \u001b[38;5;124;03m\"\"\"Return a class cls instance based on the input string and the\u001b[39;00m\n\u001b[0;32m    567\u001b[0m \u001b[38;5;124;03m    format string.\"\"\"\u001b[39;00m\n\u001b[1;32m--> 568\u001b[0m     tt, fraction, gmtoff_fraction \u001b[38;5;241m=\u001b[39m \u001b[43m_strptime\u001b[49m\u001b[43m(\u001b[49m\u001b[43mdata_string\u001b[49m\u001b[43m,\u001b[49m\u001b[43m \u001b[49m\u001b[38;5;28;43mformat\u001b[39;49m\u001b[43m)\u001b[49m\n\u001b[0;32m    569\u001b[0m     tzname, gmtoff \u001b[38;5;241m=\u001b[39m tt[\u001b[38;5;241m-\u001b[39m\u001b[38;5;241m2\u001b[39m:]\n\u001b[0;32m    570\u001b[0m     args \u001b[38;5;241m=\u001b[39m tt[:\u001b[38;5;241m6\u001b[39m] \u001b[38;5;241m+\u001b[39m (fraction,)\n",
      "File \u001b[1;32m~\\anaconda3\\envs\\cda_talleres\\lib\\_strptime.py:534\u001b[0m, in \u001b[0;36m_strptime\u001b[1;34m(data_string, format)\u001b[0m\n\u001b[0;32m    527\u001b[0m         julian \u001b[38;5;241m+\u001b[39m\u001b[38;5;241m=\u001b[39m yday\n\u001b[0;32m    529\u001b[0m \u001b[38;5;28;01mif\u001b[39;00m julian \u001b[38;5;129;01mis\u001b[39;00m \u001b[38;5;28;01mNone\u001b[39;00m:\n\u001b[0;32m    530\u001b[0m     \u001b[38;5;66;03m# Cannot pre-calculate datetime_date() since can change in Julian\u001b[39;00m\n\u001b[0;32m    531\u001b[0m     \u001b[38;5;66;03m# calculation and thus could have different value for the day of\u001b[39;00m\n\u001b[0;32m    532\u001b[0m     \u001b[38;5;66;03m# the week calculation.\u001b[39;00m\n\u001b[0;32m    533\u001b[0m     \u001b[38;5;66;03m# Need to add 1 to result since first day of the year is 1, not 0.\u001b[39;00m\n\u001b[1;32m--> 534\u001b[0m     julian \u001b[38;5;241m=\u001b[39m \u001b[43mdatetime_date\u001b[49m\u001b[43m(\u001b[49m\u001b[43myear\u001b[49m\u001b[43m,\u001b[49m\u001b[43m \u001b[49m\u001b[43mmonth\u001b[49m\u001b[43m,\u001b[49m\u001b[43m \u001b[49m\u001b[43mday\u001b[49m\u001b[43m)\u001b[49m\u001b[38;5;241m.\u001b[39mtoordinal() \u001b[38;5;241m-\u001b[39m \\\n\u001b[0;32m    535\u001b[0m               datetime_date(year, \u001b[38;5;241m1\u001b[39m, \u001b[38;5;241m1\u001b[39m)\u001b[38;5;241m.\u001b[39mtoordinal() \u001b[38;5;241m+\u001b[39m \u001b[38;5;241m1\u001b[39m\n\u001b[0;32m    536\u001b[0m \u001b[38;5;28;01melse\u001b[39;00m:  \u001b[38;5;66;03m# Assume that if they bothered to include Julian day (or if it was\u001b[39;00m\n\u001b[0;32m    537\u001b[0m        \u001b[38;5;66;03m# calculated above with year/week/weekday) it will be accurate.\u001b[39;00m\n\u001b[0;32m    538\u001b[0m     datetime_result \u001b[38;5;241m=\u001b[39m datetime_date\u001b[38;5;241m.\u001b[39mfromordinal(\n\u001b[0;32m    539\u001b[0m                         (julian \u001b[38;5;241m-\u001b[39m \u001b[38;5;241m1\u001b[39m) \u001b[38;5;241m+\u001b[39m\n\u001b[0;32m    540\u001b[0m                         datetime_date(year, \u001b[38;5;241m1\u001b[39m, \u001b[38;5;241m1\u001b[39m)\u001b[38;5;241m.\u001b[39mtoordinal())\n",
      "\u001b[1;31mValueError\u001b[0m: day is out of range for month"
     ]
    }
   ],
   "source": [
    "# Aplicar lamda a todos los valores en la columna Date\n",
    "df[\"Date\"].apply(dateparse)"
   ]
  },
  {
   "cell_type": "code",
   "execution_count": 137,
   "id": "081c6b5d-378d-4aef-9132-330c6c1845dd",
   "metadata": {},
   "outputs": [],
   "source": [
    "# Crea funcion para validar cuales valores causan error\n",
    "def error_in_format(x):\n",
    "    try:\n",
    "        datetime.strptime(x, \"%d/%m/%Y\").date()\n",
    "        return False\n",
    "    except:\n",
    "        return True"
   ]
  },
  {
   "cell_type": "code",
   "execution_count": 138,
   "id": "1a6057a0-9f02-4603-92fd-3b7594bb09d3",
   "metadata": {},
   "outputs": [
    {
     "data": {
      "text/html": [
       "<div>\n",
       "<style scoped>\n",
       "    .dataframe tbody tr th:only-of-type {\n",
       "        vertical-align: middle;\n",
       "    }\n",
       "\n",
       "    .dataframe tbody tr th {\n",
       "        vertical-align: top;\n",
       "    }\n",
       "\n",
       "    .dataframe thead th {\n",
       "        text-align: right;\n",
       "    }\n",
       "</style>\n",
       "<table border=\"1\" class=\"dataframe\">\n",
       "  <thead>\n",
       "    <tr style=\"text-align: right;\">\n",
       "      <th></th>\n",
       "      <th>instant</th>\n",
       "      <th>Date</th>\n",
       "      <th>Season</th>\n",
       "      <th>Holiday</th>\n",
       "      <th>Weather</th>\n",
       "      <th>Temp</th>\n",
       "      <th>Feel_Temp</th>\n",
       "      <th>Hum</th>\n",
       "      <th>Wind</th>\n",
       "      <th>Casual</th>\n",
       "      <th>Registered</th>\n",
       "      <th>cnt</th>\n",
       "    </tr>\n",
       "  </thead>\n",
       "  <tbody>\n",
       "    <tr>\n",
       "      <th>424</th>\n",
       "      <td>425</td>\n",
       "      <td>29/02/2021</td>\n",
       "      <td>Springer</td>\n",
       "      <td>No</td>\n",
       "      <td>Mist</td>\n",
       "      <td>8,184356</td>\n",
       "      <td>8,37809</td>\n",
       "      <td>0,804783</td>\n",
       "      <td>12,000839</td>\n",
       "      <td>65</td>\n",
       "      <td>1769</td>\n",
       "      <td>1834</td>\n",
       "    </tr>\n",
       "  </tbody>\n",
       "</table>\n",
       "</div>"
      ],
      "text/plain": [
       "     instant        Date    Season Holiday Weather      Temp Feel_Temp  \\\n",
       "424      425  29/02/2021  Springer      No    Mist  8,184356   8,37809   \n",
       "\n",
       "          Hum       Wind  Casual  Registered   cnt  \n",
       "424  0,804783  12,000839      65        1769  1834  "
      ]
     },
     "execution_count": 138,
     "metadata": {},
     "output_type": "execute_result"
    }
   ],
   "source": [
    "# Usa funcion para validar valores de Date\n",
    "df.loc[df[\"Date\"].apply(error_in_format)]"
   ]
  },
  {
   "cell_type": "markdown",
   "id": "cb73027f-c581-4532-86d1-e9a3720df5aa",
   "metadata": {},
   "source": [
    "<b>NOTA:</b> El dia 29 de Febrero no existe para el 2021, procedemos a eliminar el registro"
   ]
  },
  {
   "cell_type": "code",
   "execution_count": 139,
   "id": "fa3c2000-5158-4e29-be04-39690247be9d",
   "metadata": {},
   "outputs": [],
   "source": [
    "# Eliminamos el registro por su indice\n",
    "df.drop(424, inplace = True)"
   ]
  },
  {
   "cell_type": "code",
   "execution_count": 140,
   "id": "75deeb91-0cea-485b-ac69-9a18deca6b21",
   "metadata": {},
   "outputs": [],
   "source": [
    "# Aplicar nuevamente lamda a todos los valores en la columna Date\n",
    "df[\"Date\"] = df[\"Date\"].apply(dateparse)"
   ]
  },
  {
   "cell_type": "code",
   "execution_count": 141,
   "id": "e46eb2a8-8d0b-4566-a8a6-d8bb45e982ff",
   "metadata": {},
   "outputs": [],
   "source": [
    "# Detectar valores duplicados para la columna Date\n",
    "duplicates_by_date = df.loc[df[\"Date\"].duplicated(keep = False)]"
   ]
  },
  {
   "cell_type": "code",
   "execution_count": 143,
   "id": "342615a2-a3d8-4027-a128-4dd0fd90e311",
   "metadata": {},
   "outputs": [
    {
     "data": {
      "text/html": [
       "<div>\n",
       "<style scoped>\n",
       "    .dataframe tbody tr th:only-of-type {\n",
       "        vertical-align: middle;\n",
       "    }\n",
       "\n",
       "    .dataframe tbody tr th {\n",
       "        vertical-align: top;\n",
       "    }\n",
       "\n",
       "    .dataframe thead th {\n",
       "        text-align: right;\n",
       "    }\n",
       "</style>\n",
       "<table border=\"1\" class=\"dataframe\">\n",
       "  <thead>\n",
       "    <tr style=\"text-align: right;\">\n",
       "      <th></th>\n",
       "      <th>instant</th>\n",
       "      <th>Date</th>\n",
       "      <th>Season</th>\n",
       "      <th>Holiday</th>\n",
       "      <th>Weather</th>\n",
       "      <th>Temp</th>\n",
       "      <th>Feel_Temp</th>\n",
       "      <th>Hum</th>\n",
       "      <th>Wind</th>\n",
       "      <th>Casual</th>\n",
       "      <th>Registered</th>\n",
       "      <th>cnt</th>\n",
       "    </tr>\n",
       "  </thead>\n",
       "  <tbody>\n",
       "  </tbody>\n",
       "</table>\n",
       "</div>"
      ],
      "text/plain": [
       "Empty DataFrame\n",
       "Columns: [instant, Date, Season, Holiday, Weather, Temp, Feel_Temp, Hum, Wind, Casual, Registered, cnt]\n",
       "Index: []"
      ]
     },
     "execution_count": 143,
     "metadata": {},
     "output_type": "execute_result"
    }
   ],
   "source": [
    "duplicates_by_date"
   ]
  },
  {
   "cell_type": "code",
   "execution_count": 144,
   "id": "347ac744-8f25-485b-9fa3-6cddbe8eddea",
   "metadata": {},
   "outputs": [],
   "source": [
    "# Crear una expresion lambda para transformar Str a Float\n",
    "strToFloat = lambda x: float(str(x).replace(\",\", \".\"))"
   ]
  },
  {
   "cell_type": "code",
   "execution_count": 145,
   "id": "e6615b9f-0b55-46c3-8cab-4dca9d752584",
   "metadata": {},
   "outputs": [],
   "source": [
    "# Aplicar lamda a todos los valores en la columna Temp\n",
    "df[\"Temp\"] = df[\"Temp\"].apply(strToFloat)"
   ]
  },
  {
   "cell_type": "code",
   "execution_count": 146,
   "id": "d48927cf-73cf-4dbe-992a-57ce12c7e47d",
   "metadata": {},
   "outputs": [],
   "source": [
    "# Aplicar lamda a todos los valores en la columna Hum\n",
    "df[\"Hum\"] = df[\"Hum\"].apply(strToFloat)"
   ]
  },
  {
   "cell_type": "code",
   "execution_count": 147,
   "id": "e408e964-71e5-4f99-8ce3-3c2c300b7d01",
   "metadata": {},
   "outputs": [],
   "source": [
    "# Aplicar lamda a todos los valores en la columna Feel_Temp\n",
    "df[\"Feel_Temp\"] = df[\"Feel_Temp\"].apply(strToFloat)"
   ]
  },
  {
   "cell_type": "code",
   "execution_count": 148,
   "id": "f047e6ee-ffce-42c7-962d-593bec2c5591",
   "metadata": {},
   "outputs": [],
   "source": [
    "# Aplicar lamda a todos los valores en la columna Wind\n",
    "df[\"Wind\"] = df[\"Wind\"].apply(strToFloat)"
   ]
  },
  {
   "cell_type": "code",
   "execution_count": 149,
   "id": "16301f9e-1e3f-43e9-96a4-d8e3c28c73f5",
   "metadata": {},
   "outputs": [
    {
     "data": {
      "text/plain": [
       "instant       0\n",
       "Date          0\n",
       "Season        0\n",
       "Holiday       0\n",
       "Weather       0\n",
       "Temp          4\n",
       "Feel_Temp     0\n",
       "Hum           0\n",
       "Wind          0\n",
       "Casual        0\n",
       "Registered    0\n",
       "cnt           0\n",
       "dtype: int64"
      ]
     },
     "execution_count": 149,
     "metadata": {},
     "output_type": "execute_result"
    }
   ],
   "source": [
    "# Identificamos el número de missing values en cada columna\n",
    "df.isnull().sum()"
   ]
  },
  {
   "cell_type": "code",
   "execution_count": 150,
   "id": "f7fc938a-336e-483b-bfe4-adc825f87320",
   "metadata": {},
   "outputs": [],
   "source": [
    "# Imputamos la variable Temp con la media\n",
    "df['Temp'].fillna(df['Temp'].mean(), inplace=True)"
   ]
  },
  {
   "cell_type": "code",
   "execution_count": 151,
   "id": "c0be70e8-f86b-4746-b7c0-6f7d77a096d9",
   "metadata": {},
   "outputs": [
    {
     "data": {
      "text/plain": [
       "array(['Springer', 'Summer', 'Fall', 'Winter'], dtype=object)"
      ]
     },
     "execution_count": 151,
     "metadata": {},
     "output_type": "execute_result"
    }
   ],
   "source": [
    "# Identifico valores unico para columna Season\n",
    "df[\"Season\"].unique()"
   ]
  },
  {
   "cell_type": "code",
   "execution_count": 152,
   "id": "a3aaaaa4-d49a-4b91-8bcf-8e6f3c920197",
   "metadata": {},
   "outputs": [],
   "source": [
    "# Creo nueva columna Season para convertirla en numerica\n",
    "df[\"SeasonInt\"] = df[\"Season\"]"
   ]
  },
  {
   "cell_type": "code",
   "execution_count": 153,
   "id": "5bb9dfb1-ea66-4bf5-85e4-f69ca34cef75",
   "metadata": {},
   "outputs": [],
   "source": [
    "# Vuelvo numérica la variable categórica Season\n",
    "df['SeasonInt'] = df['SeasonInt'].replace(['Springer', 'Summer', 'Fall', 'Winter'],[1, 2, 3, 4])"
   ]
  },
  {
   "cell_type": "code",
   "execution_count": 160,
   "id": "654e0737-404f-4160-a8d8-40df408cb4d1",
   "metadata": {},
   "outputs": [
    {
     "data": {
      "text/plain": [
       "array(['No', 'Yes'], dtype=object)"
      ]
     },
     "execution_count": 160,
     "metadata": {},
     "output_type": "execute_result"
    }
   ],
   "source": [
    "# Identifico valores unico para columna Holiday\n",
    "df[\"Holiday\"].unique()"
   ]
  },
  {
   "cell_type": "code",
   "execution_count": 162,
   "id": "a3097077-9089-41c1-8e6f-a36e8e59f9c0",
   "metadata": {},
   "outputs": [],
   "source": [
    "# Creo nueva columna Holiday para convertirla en numerica\n",
    "df[\"HolidayInt\"] = df[\"Holiday\"]"
   ]
  },
  {
   "cell_type": "code",
   "execution_count": 163,
   "id": "badf4571-c749-4331-a350-79006b610143",
   "metadata": {},
   "outputs": [],
   "source": [
    "# Vuelvo numérica la variable categórica Holiday\n",
    "df['HolidayInt'] = df['HolidayInt'].replace(['No', 'Yes'],[0, 1])"
   ]
  },
  {
   "cell_type": "code",
   "execution_count": 154,
   "id": "2d60e38f-667e-4a06-ae21-82f437ab73d4",
   "metadata": {},
   "outputs": [
    {
     "data": {
      "text/plain": [
       "array(['Mist + Cloudy', 'Few clouds', ' Partly    cloudy', 'Clear',\n",
       "       'Mist', 'Mist + Broken clouds', ' Partly cloudy',\n",
       "       'Mist + Few clouds', 'Rain + Thunderstorm',\n",
       "       'Light Rain + Scattered clouds', 'Snow'], dtype=object)"
      ]
     },
     "execution_count": 154,
     "metadata": {},
     "output_type": "execute_result"
    }
   ],
   "source": [
    "# Identifico valores unico para columna Weather\n",
    "df[\"Weather\"].unique()"
   ]
  },
  {
   "cell_type": "code",
   "execution_count": 155,
   "id": "a8a1b044-aa1c-4f19-8d35-1fedc77035c9",
   "metadata": {},
   "outputs": [],
   "source": [
    "# Creo nueva columna Weather para convertirla en numerica\n",
    "df[\"WeatherInt\"] = df[\"Weather\"]"
   ]
  },
  {
   "cell_type": "code",
   "execution_count": 156,
   "id": "ba0a2eef-c872-4c10-a73d-9e8f3fea5112",
   "metadata": {},
   "outputs": [],
   "source": [
    "# Creo funcion para agrupar y volver numerica la variable Weather\n",
    "def transf_weather (weather):\n",
    "    if 'Mist' in weather:\n",
    "        return 1\n",
    "    elif ('Rain' in weather or 'Snow' in weather):\n",
    "        return 2\n",
    "    else:\n",
    "        return 0    "
   ]
  },
  {
   "cell_type": "code",
   "execution_count": 157,
   "id": "a9331147-baf4-4900-849d-e5a730a19b22",
   "metadata": {},
   "outputs": [],
   "source": [
    "# Uso funcion para trasformar la columna WeatherInt\n",
    "df[\"WeatherInt\"] = df[\"WeatherInt\"].apply(transf_weather)"
   ]
  },
  {
   "cell_type": "code",
   "execution_count": 164,
   "id": "411c6cd9-daf1-41f5-8c47-99944927cfcf",
   "metadata": {},
   "outputs": [
    {
     "data": {
      "text/plain": [
       "instant         int64\n",
       "Date           object\n",
       "Season         object\n",
       "Holiday        object\n",
       "Weather        object\n",
       "Temp          float64\n",
       "Feel_Temp     float64\n",
       "Hum           float64\n",
       "Wind          float64\n",
       "Casual          int64\n",
       "Registered      int64\n",
       "cnt             int64\n",
       "SeasonInt       int64\n",
       "WeatherInt      int64\n",
       "HolidayInt      int64\n",
       "dtype: object"
      ]
     },
     "execution_count": 164,
     "metadata": {},
     "output_type": "execute_result"
    }
   ],
   "source": [
    "# Describe las columnas y su tipo del DataFrame cargado\n",
    "df.dtypes"
   ]
  },
  {
   "cell_type": "code",
   "execution_count": 165,
   "id": "b0be8501-25d8-4385-930e-f5fdfcadd4c0",
   "metadata": {},
   "outputs": [
    {
     "data": {
      "text/html": [
       "<div>\n",
       "<style scoped>\n",
       "    .dataframe tbody tr th:only-of-type {\n",
       "        vertical-align: middle;\n",
       "    }\n",
       "\n",
       "    .dataframe tbody tr th {\n",
       "        vertical-align: top;\n",
       "    }\n",
       "\n",
       "    .dataframe thead th {\n",
       "        text-align: right;\n",
       "    }\n",
       "</style>\n",
       "<table border=\"1\" class=\"dataframe\">\n",
       "  <thead>\n",
       "    <tr style=\"text-align: right;\">\n",
       "      <th></th>\n",
       "      <th>instant</th>\n",
       "      <th>Date</th>\n",
       "      <th>Season</th>\n",
       "      <th>Holiday</th>\n",
       "      <th>Weather</th>\n",
       "      <th>Temp</th>\n",
       "      <th>Feel_Temp</th>\n",
       "      <th>Hum</th>\n",
       "      <th>Wind</th>\n",
       "      <th>Casual</th>\n",
       "      <th>Registered</th>\n",
       "      <th>cnt</th>\n",
       "      <th>SeasonInt</th>\n",
       "      <th>WeatherInt</th>\n",
       "      <th>HolidayInt</th>\n",
       "    </tr>\n",
       "  </thead>\n",
       "  <tbody>\n",
       "    <tr>\n",
       "      <th>0</th>\n",
       "      <td>1</td>\n",
       "      <td>2020-01-01</td>\n",
       "      <td>Springer</td>\n",
       "      <td>No</td>\n",
       "      <td>Mist + Cloudy</td>\n",
       "      <td>8.175849</td>\n",
       "      <td>9.090375</td>\n",
       "      <td>0.805833</td>\n",
       "      <td>10.749882</td>\n",
       "      <td>331</td>\n",
       "      <td>654</td>\n",
       "      <td>985</td>\n",
       "      <td>1</td>\n",
       "      <td>1</td>\n",
       "      <td>0</td>\n",
       "    </tr>\n",
       "    <tr>\n",
       "      <th>1</th>\n",
       "      <td>2</td>\n",
       "      <td>2020-01-02</td>\n",
       "      <td>Springer</td>\n",
       "      <td>No</td>\n",
       "      <td>Mist + Cloudy</td>\n",
       "      <td>9.083466</td>\n",
       "      <td>8.625733</td>\n",
       "      <td>0.696087</td>\n",
       "      <td>-16.652113</td>\n",
       "      <td>131</td>\n",
       "      <td>670</td>\n",
       "      <td>801</td>\n",
       "      <td>1</td>\n",
       "      <td>1</td>\n",
       "      <td>0</td>\n",
       "    </tr>\n",
       "    <tr>\n",
       "      <th>2</th>\n",
       "      <td>3</td>\n",
       "      <td>2020-01-03</td>\n",
       "      <td>Springer</td>\n",
       "      <td>No</td>\n",
       "      <td>Few clouds</td>\n",
       "      <td>1.229108</td>\n",
       "      <td>0.902035</td>\n",
       "      <td>0.437273</td>\n",
       "      <td>16.636703</td>\n",
       "      <td>120</td>\n",
       "      <td>1229</td>\n",
       "      <td>1349</td>\n",
       "      <td>1</td>\n",
       "      <td>0</td>\n",
       "      <td>0</td>\n",
       "    </tr>\n",
       "    <tr>\n",
       "      <th>3</th>\n",
       "      <td>4</td>\n",
       "      <td>2020-01-04</td>\n",
       "      <td>Springer</td>\n",
       "      <td>No</td>\n",
       "      <td>Few clouds</td>\n",
       "      <td>1.400000</td>\n",
       "      <td>1.969734</td>\n",
       "      <td>0.590435</td>\n",
       "      <td>10.739832</td>\n",
       "      <td>108</td>\n",
       "      <td>1454</td>\n",
       "      <td>1562</td>\n",
       "      <td>1</td>\n",
       "      <td>0</td>\n",
       "      <td>0</td>\n",
       "    </tr>\n",
       "    <tr>\n",
       "      <th>4</th>\n",
       "      <td>5</td>\n",
       "      <td>2020-01-05</td>\n",
       "      <td>Springer</td>\n",
       "      <td>No</td>\n",
       "      <td>Partly    cloudy</td>\n",
       "      <td>2.666979</td>\n",
       "      <td>2.775690</td>\n",
       "      <td>0.436957</td>\n",
       "      <td>12.522300</td>\n",
       "      <td>82</td>\n",
       "      <td>1518</td>\n",
       "      <td>1600</td>\n",
       "      <td>1</td>\n",
       "      <td>0</td>\n",
       "      <td>0</td>\n",
       "    </tr>\n",
       "    <tr>\n",
       "      <th>...</th>\n",
       "      <td>...</td>\n",
       "      <td>...</td>\n",
       "      <td>...</td>\n",
       "      <td>...</td>\n",
       "      <td>...</td>\n",
       "      <td>...</td>\n",
       "      <td>...</td>\n",
       "      <td>...</td>\n",
       "      <td>...</td>\n",
       "      <td>...</td>\n",
       "      <td>...</td>\n",
       "      <td>...</td>\n",
       "      <td>...</td>\n",
       "      <td>...</td>\n",
       "      <td>...</td>\n",
       "    </tr>\n",
       "    <tr>\n",
       "      <th>726</th>\n",
       "      <td>727</td>\n",
       "      <td>2021-12-27</td>\n",
       "      <td>Springer</td>\n",
       "      <td>No</td>\n",
       "      <td>Mist + Cloudy</td>\n",
       "      <td>3.945849</td>\n",
       "      <td>2.652174</td>\n",
       "      <td>0.652917</td>\n",
       "      <td>23.458911</td>\n",
       "      <td>247</td>\n",
       "      <td>1867</td>\n",
       "      <td>2114</td>\n",
       "      <td>1</td>\n",
       "      <td>1</td>\n",
       "      <td>0</td>\n",
       "    </tr>\n",
       "    <tr>\n",
       "      <th>727</th>\n",
       "      <td>728</td>\n",
       "      <td>2021-12-28</td>\n",
       "      <td>Springer</td>\n",
       "      <td>No</td>\n",
       "      <td>Mist + Few clouds</td>\n",
       "      <td>3.906651</td>\n",
       "      <td>3.987162</td>\n",
       "      <td>0.590000</td>\n",
       "      <td>10.416557</td>\n",
       "      <td>644</td>\n",
       "      <td>2451</td>\n",
       "      <td>3095</td>\n",
       "      <td>1</td>\n",
       "      <td>1</td>\n",
       "      <td>0</td>\n",
       "    </tr>\n",
       "    <tr>\n",
       "      <th>728</th>\n",
       "      <td>729</td>\n",
       "      <td>2021-12-29</td>\n",
       "      <td>Springer</td>\n",
       "      <td>No</td>\n",
       "      <td>Mist</td>\n",
       "      <td>3.906651</td>\n",
       "      <td>3.392800</td>\n",
       "      <td>0.752917</td>\n",
       "      <td>8.333661</td>\n",
       "      <td>159</td>\n",
       "      <td>1182</td>\n",
       "      <td>1341</td>\n",
       "      <td>1</td>\n",
       "      <td>1</td>\n",
       "      <td>0</td>\n",
       "    </tr>\n",
       "    <tr>\n",
       "      <th>729</th>\n",
       "      <td>730</td>\n",
       "      <td>2021-12-30</td>\n",
       "      <td>Springer</td>\n",
       "      <td>No</td>\n",
       "      <td>Few clouds</td>\n",
       "      <td>4.024151</td>\n",
       "      <td>2.889900</td>\n",
       "      <td>0.483333</td>\n",
       "      <td>23.500518</td>\n",
       "      <td>364</td>\n",
       "      <td>1432</td>\n",
       "      <td>1796</td>\n",
       "      <td>1</td>\n",
       "      <td>0</td>\n",
       "      <td>0</td>\n",
       "    </tr>\n",
       "    <tr>\n",
       "      <th>730</th>\n",
       "      <td>731</td>\n",
       "      <td>2021-12-31</td>\n",
       "      <td>Springer</td>\n",
       "      <td>No</td>\n",
       "      <td>Mist + Few clouds</td>\n",
       "      <td>2.144151</td>\n",
       "      <td>2.503889</td>\n",
       "      <td>0.577500</td>\n",
       "      <td>10.374682</td>\n",
       "      <td>439</td>\n",
       "      <td>2290</td>\n",
       "      <td>2729</td>\n",
       "      <td>1</td>\n",
       "      <td>1</td>\n",
       "      <td>0</td>\n",
       "    </tr>\n",
       "  </tbody>\n",
       "</table>\n",
       "<p>730 rows × 15 columns</p>\n",
       "</div>"
      ],
      "text/plain": [
       "     instant        Date    Season Holiday            Weather      Temp  \\\n",
       "0          1  2020-01-01  Springer      No      Mist + Cloudy  8.175849   \n",
       "1          2  2020-01-02  Springer      No      Mist + Cloudy  9.083466   \n",
       "2          3  2020-01-03  Springer      No         Few clouds  1.229108   \n",
       "3          4  2020-01-04  Springer      No         Few clouds  1.400000   \n",
       "4          5  2020-01-05  Springer      No   Partly    cloudy  2.666979   \n",
       "..       ...         ...       ...     ...                ...       ...   \n",
       "726      727  2021-12-27  Springer      No      Mist + Cloudy  3.945849   \n",
       "727      728  2021-12-28  Springer      No  Mist + Few clouds  3.906651   \n",
       "728      729  2021-12-29  Springer      No               Mist  3.906651   \n",
       "729      730  2021-12-30  Springer      No         Few clouds  4.024151   \n",
       "730      731  2021-12-31  Springer      No  Mist + Few clouds  2.144151   \n",
       "\n",
       "     Feel_Temp       Hum       Wind  Casual  Registered   cnt  SeasonInt  \\\n",
       "0     9.090375  0.805833  10.749882     331         654   985          1   \n",
       "1     8.625733  0.696087 -16.652113     131         670   801          1   \n",
       "2     0.902035  0.437273  16.636703     120        1229  1349          1   \n",
       "3     1.969734  0.590435  10.739832     108        1454  1562          1   \n",
       "4     2.775690  0.436957  12.522300      82        1518  1600          1   \n",
       "..         ...       ...        ...     ...         ...   ...        ...   \n",
       "726   2.652174  0.652917  23.458911     247        1867  2114          1   \n",
       "727   3.987162  0.590000  10.416557     644        2451  3095          1   \n",
       "728   3.392800  0.752917   8.333661     159        1182  1341          1   \n",
       "729   2.889900  0.483333  23.500518     364        1432  1796          1   \n",
       "730   2.503889  0.577500  10.374682     439        2290  2729          1   \n",
       "\n",
       "     WeatherInt  HolidayInt  \n",
       "0             1           0  \n",
       "1             1           0  \n",
       "2             0           0  \n",
       "3             0           0  \n",
       "4             0           0  \n",
       "..          ...         ...  \n",
       "726           1           0  \n",
       "727           1           0  \n",
       "728           1           0  \n",
       "729           0           0  \n",
       "730           1           0  \n",
       "\n",
       "[730 rows x 15 columns]"
      ]
     },
     "execution_count": 165,
     "metadata": {},
     "output_type": "execute_result"
    }
   ],
   "source": [
    "df"
   ]
  },
  {
   "cell_type": "markdown",
   "id": "7b3ca6eb-2d2e-40da-b052-1924d0e1e992",
   "metadata": {},
   "source": [
    "## Análisis de Datos"
   ]
  },
  {
   "cell_type": "code",
   "execution_count": 172,
   "id": "149b4eae-99d8-473e-afa9-197c004513a3",
   "metadata": {},
   "outputs": [],
   "source": [
    "df_EDA = df"
   ]
  },
  {
   "cell_type": "code",
   "execution_count": 173,
   "id": "8aff9a7f-89cd-4bb2-b83e-2887f29bd4bf",
   "metadata": {},
   "outputs": [],
   "source": [
    "df_EDA['year'] = pd.DatetimeIndex(df_EDA['Date']).year \n",
    "df_EDA['month'] = pd.DatetimeIndex(df_EDA['Date']).month"
   ]
  },
  {
   "cell_type": "code",
   "execution_count": 183,
   "id": "2916b0a5-c2ac-4419-8516-604691a216b7",
   "metadata": {},
   "outputs": [
    {
     "data": {
      "image/png": "[encoded data removed]",
      "text/plain": [
       "<Figure size 640x480 with 1 Axes>"
      ]
     },
     "metadata": {},
     "output_type": "display_data"
    }
   ],
   "source": [
    "ax = df_EDA.groupby('year')['cnt'].mean().round(0).plot.barh()\n",
    "\n",
    "ax.set_xlabel('Cantidad patinetas rentadas')\n",
    "ax.set_ylabel('Año')\n",
    "ax.set_title('Promedio Patinetas Rentadas por Año')\n",
    "ax.set_xlim(0, 7000)\n",
    "for rect in ax.patches:\n",
    "    ax.text(\n",
    "        rect.get_width() + .2,\n",
    "        rect.get_y() + rect.get_height() / 2 ,\n",
    "        rect.get_width(),\n",
    "        fontsize=10\n",
    "    )\n"
   ]
  },
  {
   "cell_type": "code",
   "execution_count": 186,
   "id": "6a03beb4-c410-460a-a6b9-16c07ebe9e5f",
   "metadata": {},
   "outputs": [
    {
     "data": {
      "image/png": "[encoded data removed]",
      "text/plain": [
       "<Figure size 640x480 with 1 Axes>"
      ]
     },
     "metadata": {},
     "output_type": "display_data"
    }
   ],
   "source": [
    "ax = df_EDA.groupby('Season')['cnt'].mean().round(0).plot.barh()\n",
    "\n",
    "ax.set_xlabel('Cantidad patinetas rentadas')\n",
    "ax.set_ylabel('Estación')\n",
    "ax.set_title('Promedio Patinetas Rentadas por Estación')\n",
    "ax.set_xlim(0, 7000)\n",
    "for rect in ax.patches:\n",
    "    ax.text(\n",
    "        rect.get_width() + .2,\n",
    "        rect.get_y() + rect.get_height() / 2 ,\n",
    "        rect.get_width(),\n",
    "        fontsize=10\n",
    "    )"
   ]
  },
  {
   "cell_type": "code",
   "execution_count": 203,
   "id": "73cff105-d480-4c38-b9e4-f7f300cd78a4",
   "metadata": {},
   "outputs": [
    {
     "data": {
      "image/png": "[encoded data removed]",
      "text/plain": [
       "<Figure size 640x480 with 1 Axes>"
      ]
     },
     "metadata": {},
     "output_type": "display_data"
    }
   ],
   "source": [
    "ax = df_EDA.groupby('month')['cnt'].mean().round(0).plot.barh()\n",
    "\n",
    "ax.set_xlabel('Cantidad patinetas rentadas')\n",
    "ax.set_ylabel('Mes')\n",
    "ax.set_title('Promedio Patinetas Rentadas por Mes')\n",
    "ax.set_xlim(0, 7000)\n",
    "plt.yticks([0, 1, 2, 3, 4, 5, 6, 7, 8, 9, 10, 11],['Ene', 'Feb', 'Mar', 'Abr', 'May', 'Jun', 'Jul', 'Ago', 'Sep', 'Oct', 'Nov', 'Dic'])\n",
    "for rect in ax.patches:\n",
    "    ax.text(\n",
    "        rect.get_width() + .2,\n",
    "        rect.get_y() + rect.get_height() / 2 ,\n",
    "        rect.get_width(),\n",
    "        fontsize=10\n",
    "    )"
   ]
  },
  {
   "cell_type": "code",
   "execution_count": 218,
   "id": "2f7ef23b-b4b6-4f15-9b2e-d98373a50cc6",
   "metadata": {},
   "outputs": [
    {
     "data": {
      "image/png": "[encoded data removed]",
      "text/plain": [
       "<Figure size 640x480 with 1 Axes>"
      ]
     },
     "metadata": {},
     "output_type": "display_data"
    }
   ],
   "source": [
    "ax = df_EDA.groupby('Weather')['cnt'].mean().round(0).plot.barh()\n",
    "\n",
    "ax.set_xlabel('Cantidad patinetas rentadas')\n",
    "ax.set_ylabel('Clima')\n",
    "ax.set_title('Promedio Patinetas Rentadas vs Clima')\n",
    "ax.set_xlim(0, 7000)\n",
    "for rect in ax.patches:\n",
    "    ax.text(\n",
    "        rect.get_width() + .2,\n",
    "        rect.get_y() + rect.get_height() / 2 ,\n",
    "        rect.get_width(),\n",
    "        fontsize=10\n",
    "    )"
   ]
  },
  {
   "cell_type": "code",
   "execution_count": 219,
   "id": "fabe75cf-8d49-4517-9ab1-8ebc38b3ab6a",
   "metadata": {},
   "outputs": [
    {
     "data": {
      "image/png": "[encoded data removed]",
      "text/plain": [
       "<Figure size 640x480 with 1 Axes>"
      ]
     },
     "metadata": {},
     "output_type": "display_data"
    }
   ],
   "source": [
    "ax = df_EDA.groupby('Holiday')['cnt'].mean().round(0).plot.barh()\n",
    "\n",
    "ax.set_xlabel('Cantidad patinetas rentadas')\n",
    "ax.set_ylabel('Día Festivo')\n",
    "ax.set_title('Promedio Patinetas Rentadas vs Holiday')\n",
    "ax.set_xlim(0, 6000)\n",
    "for rect in ax.patches:\n",
    "    ax.text(\n",
    "        rect.get_width() + .2,\n",
    "        rect.get_y() + rect.get_height() / 2 ,\n",
    "        rect.get_width(),\n",
    "        fontsize=10\n",
    "    )"
   ]
  },
  {
   "cell_type": "markdown",
   "id": "cd04e22e-1c9b-4598-8b98-a50f5d618527",
   "metadata": {},
   "source": [
    "### Analizando la variable objetivo (cnt)"
   ]
  },
  {
   "cell_type": "code",
   "execution_count": 220,
   "id": "dcc4cde5-715e-42f4-a986-e312d83ccad6",
   "metadata": {},
   "outputs": [
    {
     "data": {
      "text/plain": [
       "count     730.000000\n",
       "mean     4508.006849\n",
       "std      1936.011647\n",
       "min        22.000000\n",
       "25%      3169.750000\n",
       "50%      4548.500000\n",
       "75%      5966.000000\n",
       "95%      7576.400000\n",
       "99%      8163.810000\n",
       "max      8714.000000\n",
       "Name: cnt, dtype: float64"
      ]
     },
     "execution_count": 220,
     "metadata": {},
     "output_type": "execute_result"
    }
   ],
   "source": [
    "df_EDA['cnt'].describe(percentiles = [.25, .5, .75, .95, .99])"
   ]
  },
  {
   "cell_type": "code",
   "execution_count": 226,
   "id": "a2e0a9ee-048f-4478-ac99-215d5ab45317",
   "metadata": {},
   "outputs": [
    {
     "data": {
      "image/png": "[encoded data removed]",
      "text/plain": [
       "<Figure size 2800x300 with 1 Axes>"
      ]
     },
     "metadata": {},
     "output_type": "display_data"
    }
   ],
   "source": [
    "plt.figure(figsize = (28, 3))\n",
    "plt.boxplot(df_EDA['cnt'], vert = False)\n",
    "plt.show()"
   ]
  },
  {
   "cell_type": "markdown",
   "id": "88f86cb9-a4fa-4dfa-8afd-688a6e844756",
   "metadata": {},
   "source": [
    "## Desarrollo de Modelos de Regresión"
   ]
  },
  {
   "cell_type": "markdown",
   "id": "04ede853-17d1-4596-8019-2d8ceeca9019",
   "metadata": {},
   "source": [
    "### Regresión Lineal Simple"
   ]
  },
  {
   "cell_type": "code",
   "execution_count": 276,
   "id": "666183de-5bb0-4599-b3b3-bae1b0148473",
   "metadata": {},
   "outputs": [],
   "source": [
    "features = ['Temp', 'Feel_Temp', 'Hum', 'Wind', 'SeasonInt', 'WeatherInt']"
   ]
  },
  {
   "cell_type": "code",
   "execution_count": 277,
   "id": "81999431-29ec-41a4-a829-8d5e973b3d12",
   "metadata": {},
   "outputs": [
    {
     "data": {
      "text/html": [
       "<div>\n",
       "<style scoped>\n",
       "    .dataframe tbody tr th:only-of-type {\n",
       "        vertical-align: middle;\n",
       "    }\n",
       "\n",
       "    .dataframe tbody tr th {\n",
       "        vertical-align: top;\n",
       "    }\n",
       "\n",
       "    .dataframe thead th {\n",
       "        text-align: right;\n",
       "    }\n",
       "</style>\n",
       "<table border=\"1\" class=\"dataframe\">\n",
       "  <thead>\n",
       "    <tr style=\"text-align: right;\">\n",
       "      <th></th>\n",
       "      <th>Temp</th>\n",
       "      <th>Feel_Temp</th>\n",
       "      <th>Hum</th>\n",
       "      <th>Wind</th>\n",
       "      <th>SeasonInt</th>\n",
       "      <th>WeatherInt</th>\n",
       "      <th>cnt</th>\n",
       "    </tr>\n",
       "  </thead>\n",
       "  <tbody>\n",
       "    <tr>\n",
       "      <th>Temp</th>\n",
       "      <td>1.000000</td>\n",
       "      <td>0.987651</td>\n",
       "      <td>-0.000371</td>\n",
       "      <td>-0.143495</td>\n",
       "      <td>0.330361</td>\n",
       "      <td>-0.117974</td>\n",
       "      <td>0.624598</td>\n",
       "    </tr>\n",
       "    <tr>\n",
       "      <th>Feel_Temp</th>\n",
       "      <td>0.987651</td>\n",
       "      <td>1.000000</td>\n",
       "      <td>-0.021122</td>\n",
       "      <td>-0.171862</td>\n",
       "      <td>0.342014</td>\n",
       "      <td>-0.120559</td>\n",
       "      <td>0.630685</td>\n",
       "    </tr>\n",
       "    <tr>\n",
       "      <th>Hum</th>\n",
       "      <td>-0.000371</td>\n",
       "      <td>-0.021122</td>\n",
       "      <td>1.000000</td>\n",
       "      <td>-0.026704</td>\n",
       "      <td>0.006658</td>\n",
       "      <td>0.126021</td>\n",
       "      <td>-0.047720</td>\n",
       "    </tr>\n",
       "    <tr>\n",
       "      <th>Wind</th>\n",
       "      <td>-0.143495</td>\n",
       "      <td>-0.171862</td>\n",
       "      <td>-0.026704</td>\n",
       "      <td>1.000000</td>\n",
       "      <td>-0.220753</td>\n",
       "      <td>0.024992</td>\n",
       "      <td>-0.214612</td>\n",
       "    </tr>\n",
       "    <tr>\n",
       "      <th>SeasonInt</th>\n",
       "      <td>0.330361</td>\n",
       "      <td>0.342014</td>\n",
       "      <td>0.006658</td>\n",
       "      <td>-0.220753</td>\n",
       "      <td>1.000000</td>\n",
       "      <td>0.021306</td>\n",
       "      <td>0.404584</td>\n",
       "    </tr>\n",
       "    <tr>\n",
       "      <th>WeatherInt</th>\n",
       "      <td>-0.117974</td>\n",
       "      <td>-0.120559</td>\n",
       "      <td>0.126021</td>\n",
       "      <td>0.024992</td>\n",
       "      <td>0.021306</td>\n",
       "      <td>1.000000</td>\n",
       "      <td>-0.295929</td>\n",
       "    </tr>\n",
       "    <tr>\n",
       "      <th>cnt</th>\n",
       "      <td>0.624598</td>\n",
       "      <td>0.630685</td>\n",
       "      <td>-0.047720</td>\n",
       "      <td>-0.214612</td>\n",
       "      <td>0.404584</td>\n",
       "      <td>-0.295929</td>\n",
       "      <td>1.000000</td>\n",
       "    </tr>\n",
       "  </tbody>\n",
       "</table>\n",
       "</div>"
      ],
      "text/plain": [
       "                Temp  Feel_Temp       Hum      Wind  SeasonInt  WeatherInt  \\\n",
       "Temp        1.000000   0.987651 -0.000371 -0.143495   0.330361   -0.117974   \n",
       "Feel_Temp   0.987651   1.000000 -0.021122 -0.171862   0.342014   -0.120559   \n",
       "Hum        -0.000371  -0.021122  1.000000 -0.026704   0.006658    0.126021   \n",
       "Wind       -0.143495  -0.171862 -0.026704  1.000000  -0.220753    0.024992   \n",
       "SeasonInt   0.330361   0.342014  0.006658 -0.220753   1.000000    0.021306   \n",
       "WeatherInt -0.117974  -0.120559  0.126021  0.024992   0.021306    1.000000   \n",
       "cnt         0.624598   0.630685 -0.047720 -0.214612   0.404584   -0.295929   \n",
       "\n",
       "                 cnt  \n",
       "Temp        0.624598  \n",
       "Feel_Temp   0.630685  \n",
       "Hum        -0.047720  \n",
       "Wind       -0.214612  \n",
       "SeasonInt   0.404584  \n",
       "WeatherInt -0.295929  \n",
       "cnt         1.000000  "
      ]
     },
     "execution_count": 277,
     "metadata": {},
     "output_type": "execute_result"
    }
   ],
   "source": [
    "df[features + ['cnt']].corr()"
   ]
  },
  {
   "cell_type": "markdown",
   "id": "56fdd135-ed4b-4607-a5cf-d9cf530e91a9",
   "metadata": {},
   "source": [
    "#### División conjuntos entrenamiento y pruebas"
   ]
  },
  {
   "cell_type": "code",
   "execution_count": 278,
   "id": "a93404fa-638c-48dd-972a-660b77349537",
   "metadata": {},
   "outputs": [],
   "source": [
    "X = df[features]\n",
    "Y = df['cnt']"
   ]
  },
  {
   "cell_type": "code",
   "execution_count": 279,
   "id": "0e71b049-fb7a-4678-a996-4ad7d66f119a",
   "metadata": {},
   "outputs": [],
   "source": [
    "X_train, X_test, Y_train, Y_test = train_test_split(X, Y, test_size = 0.2, random_state = 1)"
   ]
  },
  {
   "cell_type": "code",
   "execution_count": 280,
   "id": "4de80d1f-b798-40e7-9b3c-dc1c854531d6",
   "metadata": {},
   "outputs": [
    {
     "data": {
      "text/plain": [
       "(584, 6)"
      ]
     },
     "execution_count": 280,
     "metadata": {},
     "output_type": "execute_result"
    }
   ],
   "source": [
    "X_train.shape"
   ]
  },
  {
   "cell_type": "code",
   "execution_count": 281,
   "id": "4c8e0638-214a-4f79-ade4-dc12889d61aa",
   "metadata": {},
   "outputs": [
    {
     "data": {
      "text/plain": [
       "(146, 6)"
      ]
     },
     "execution_count": 281,
     "metadata": {},
     "output_type": "execute_result"
    }
   ],
   "source": [
    "X_test.shape"
   ]
  },
  {
   "cell_type": "markdown",
   "id": "d32de713-3aef-4a7a-9b26-454d57d61f74",
   "metadata": {},
   "source": [
    "#### Escalando las características"
   ]
  },
  {
   "cell_type": "code",
   "execution_count": 282,
   "id": "d7135faa-3ddc-43e4-aba7-62a08d3cd9a9",
   "metadata": {},
   "outputs": [],
   "source": [
    "scaler = StandardScaler()"
   ]
  },
  {
   "cell_type": "code",
   "execution_count": 283,
   "id": "7d4a3a6b-ac9d-45f6-84b0-4d538582ea0f",
   "metadata": {},
   "outputs": [],
   "source": [
    "X_train_scaled = scaler.fit_transform(X_train)\n",
    "X_test_scaled = scaler.transform(X_test)"
   ]
  },
  {
   "cell_type": "markdown",
   "id": "0afa66a6-5c9a-47dd-9f16-e5ce6989b871",
   "metadata": {},
   "source": [
    "#### Entrenando el modelo"
   ]
  },
  {
   "cell_type": "code",
   "execution_count": 284,
   "id": "c0057f1b-5c96-4386-b4d2-4de58ef92eca",
   "metadata": {},
   "outputs": [],
   "source": [
    "lin_reg = LinearRegression()"
   ]
  },
  {
   "cell_type": "code",
   "execution_count": 285,
   "id": "b89e8a9d-07db-4f13-ad9f-774686d78999",
   "metadata": {},
   "outputs": [
    {
     "data": {
      "text/html": [
       "<style>#sk-container-id-5 {color: black;background-color: white;}#sk-container-id-5 pre{padding: 0;}#sk-container-id-5 div.sk-toggleable {background-color: white;}#sk-container-id-5 label.sk-toggleable__label {cursor: pointer;display: block;width: 100%;margin-bottom: 0;padding: 0.3em;box-sizing: border-box;text-align: center;}#sk-container-id-5 label.sk-toggleable__label-arrow:before {content: \"▸\";float: left;margin-right: 0.25em;color: #696969;}#sk-container-id-5 label.sk-toggleable__label-arrow:hover:before {color: black;}#sk-container-id-5 div.sk-estimator:hover label.sk-toggleable__label-arrow:before {color: black;}#sk-container-id-5 div.sk-toggleable__content {max-height: 0;max-width: 0;overflow: hidden;text-align: left;background-color: #f0f8ff;}#sk-container-id-5 div.sk-toggleable__content pre {margin: 0.2em;color: black;border-radius: 0.25em;background-color: #f0f8ff;}#sk-container-id-5 input.sk-toggleable__control:checked~div.sk-toggleable__content {max-height: 200px;max-width: 100%;overflow: auto;}#sk-container-id-5 input.sk-toggleable__control:checked~label.sk-toggleable__label-arrow:before {content: \"▾\";}#sk-container-id-5 div.sk-estimator input.sk-toggleable__control:checked~label.sk-toggleable__label {background-color: #d4ebff;}#sk-container-id-5 div.sk-label input.sk-toggleable__control:checked~label.sk-toggleable__label {background-color: #d4ebff;}#sk-container-id-5 input.sk-hidden--visually {border: 0;clip: rect(1px 1px 1px 1px);clip: rect(1px, 1px, 1px, 1px);height: 1px;margin: -1px;overflow: hidden;padding: 0;position: absolute;width: 1px;}#sk-container-id-5 div.sk-estimator {font-family: monospace;background-color: #f0f8ff;border: 1px dotted black;border-radius: 0.25em;box-sizing: border-box;margin-bottom: 0.5em;}#sk-container-id-5 div.sk-estimator:hover {background-color: #d4ebff;}#sk-container-id-5 div.sk-parallel-item::after {content: \"\";width: 100%;border-bottom: 1px solid gray;flex-grow: 1;}#sk-container-id-5 div.sk-label:hover label.sk-toggleable__label {background-color: #d4ebff;}#sk-container-id-5 div.sk-serial::before {content: \"\";position: absolute;border-left: 1px solid gray;box-sizing: border-box;top: 0;bottom: 0;left: 50%;z-index: 0;}#sk-container-id-5 div.sk-serial {display: flex;flex-direction: column;align-items: center;background-color: white;padding-right: 0.2em;padding-left: 0.2em;position: relative;}#sk-container-id-5 div.sk-item {position: relative;z-index: 1;}#sk-container-id-5 div.sk-parallel {display: flex;align-items: stretch;justify-content: center;background-color: white;position: relative;}#sk-container-id-5 div.sk-item::before, #sk-container-id-5 div.sk-parallel-item::before {content: \"\";position: absolute;border-left: 1px solid gray;box-sizing: border-box;top: 0;bottom: 0;left: 50%;z-index: -1;}#sk-container-id-5 div.sk-parallel-item {display: flex;flex-direction: column;z-index: 1;position: relative;background-color: white;}#sk-container-id-5 div.sk-parallel-item:first-child::after {align-self: flex-end;width: 50%;}#sk-container-id-5 div.sk-parallel-item:last-child::after {align-self: flex-start;width: 50%;}#sk-container-id-5 div.sk-parallel-item:only-child::after {width: 0;}#sk-container-id-5 div.sk-dashed-wrapped {border: 1px dashed gray;margin: 0 0.4em 0.5em 0.4em;box-sizing: border-box;padding-bottom: 0.4em;background-color: white;}#sk-container-id-5 div.sk-label label {font-family: monospace;font-weight: bold;display: inline-block;line-height: 1.2em;}#sk-container-id-5 div.sk-label-container {text-align: center;}#sk-container-id-5 div.sk-container {/* jupyter's `normalize.less` sets `[hidden] { display: none; }` but bootstrap.min.css set `[hidden] { display: none !important; }` so we also need the `!important` here to be able to override the default hidden behavior on the sphinx rendered scikit-learn.org. See: https://github.com/scikit-learn/scikit-learn/issues/21755 */display: inline-block !important;position: relative;}#sk-container-id-5 div.sk-text-repr-fallback {display: none;}</style><div id=\"sk-container-id-5\" class=\"sk-top-container\"><div class=\"sk-text-repr-fallback\"><pre>LinearRegression()</pre><b>In a Jupyter environment, please rerun this cell to show the HTML representation or trust the notebook. <br />On GitHub, the HTML representation is unable to render, please try loading this page with nbviewer.org.</b></div><div class=\"sk-container\" hidden><div class=\"sk-item\"><div class=\"sk-estimator sk-toggleable\"><input class=\"sk-toggleable__control sk-hidden--visually\" id=\"sk-estimator-id-5\" type=\"checkbox\" checked><label for=\"sk-estimator-id-5\" class=\"sk-toggleable__label sk-toggleable__label-arrow\">LinearRegression</label><div class=\"sk-toggleable__content\"><pre>LinearRegression()</pre></div></div></div></div></div>"
      ],
      "text/plain": [
       "LinearRegression()"
      ]
     },
     "execution_count": 285,
     "metadata": {},
     "output_type": "execute_result"
    }
   ],
   "source": [
    "lin_reg.fit(X_train_scaled, Y_train)"
   ]
  },
  {
   "cell_type": "code",
   "execution_count": 286,
   "id": "833e18c4-4322-4ac8-a21b-eb5fb599d9d0",
   "metadata": {},
   "outputs": [
    {
     "data": {
      "text/plain": [
       "array([ 529.35575695,  444.77300981,  -43.2379749 , -143.66623972,\n",
       "        360.96220112, -436.31510794])"
      ]
     },
     "execution_count": 286,
     "metadata": {},
     "output_type": "execute_result"
    }
   ],
   "source": [
    "lin_reg.coef_"
   ]
  },
  {
   "cell_type": "code",
   "execution_count": 288,
   "id": "462e9402-a451-43dc-924e-83c45d965f41",
   "metadata": {},
   "outputs": [
    {
     "data": {
      "text/plain": [
       "4547.921232876713"
      ]
     },
     "execution_count": 288,
     "metadata": {},
     "output_type": "execute_result"
    }
   ],
   "source": [
    "lin_reg.intercept_"
   ]
  },
  {
   "cell_type": "markdown",
   "id": "af320d7a-298f-42d5-9a13-5b22d870ce13",
   "metadata": {},
   "source": [
    "#### Evaluando el modelo"
   ]
  },
  {
   "cell_type": "code",
   "execution_count": 289,
   "id": "9b12bc77-b474-4473-847e-a7f871fa2fd5",
   "metadata": {},
   "outputs": [],
   "source": [
    "preds_train = lin_reg.predict(X_train_scaled)\n",
    "preds_test = lin_reg.predict(X_test_scaled)"
   ]
  },
  {
   "cell_type": "code",
   "execution_count": 290,
   "id": "cdf9e4ba-bebb-413a-9fc4-36b9e0e80cd9",
   "metadata": {},
   "outputs": [
    {
     "data": {
      "text/plain": [
       "(1182.9355533328264, 1095.143124264892)"
      ]
     },
     "execution_count": 290,
     "metadata": {},
     "output_type": "execute_result"
    }
   ],
   "source": [
    "mean_absolute_error(Y_train, preds_train), mean_absolute_error(Y_test, preds_test)"
   ]
  },
  {
   "cell_type": "code",
   "execution_count": 299,
   "id": "db54477d-01e0-4859-b6bc-a9576d444d30",
   "metadata": {},
   "outputs": [
    {
     "data": {
      "text/plain": [
       "(1397.3909453582216, 1253.7501560805943)"
      ]
     },
     "execution_count": 299,
     "metadata": {},
     "output_type": "execute_result"
    }
   ],
   "source": [
    "np.sqrt(mean_squared_error(Y_train, preds_train)), np.sqrt(mean_squared_error(Y_test, preds_test))"
   ]
  },
  {
   "cell_type": "markdown",
   "id": "d367babd-517a-4387-9245-4cc03646a0fa",
   "metadata": {},
   "source": [
    "#### Análisis del Error"
   ]
  },
  {
   "cell_type": "code",
   "execution_count": 300,
   "id": "c3c8d880-fd2d-43f1-bf45-078e2d2f91c1",
   "metadata": {},
   "outputs": [
    {
     "data": {
      "text/plain": [
       "count     146.000000\n",
       "mean       39.406011\n",
       "std      1257.444443\n",
       "min     -2441.547137\n",
       "25%      -955.826025\n",
       "50%      -329.307207\n",
       "75%       957.909593\n",
       "95%      2172.825832\n",
       "99%      2628.651690\n",
       "max      2901.072432\n",
       "Name: cnt, dtype: float64"
      ]
     },
     "execution_count": 300,
     "metadata": {},
     "output_type": "execute_result"
    }
   ],
   "source": [
    "(Y_test - preds_test).describe(percentiles = [.25, .5, .75, .95, .99])"
   ]
  },
  {
   "cell_type": "code",
   "execution_count": 1,
   "id": "202a4226-aaf6-4a6c-a1c8-fbfce79df441",
   "metadata": {},
   "outputs": [
    {
     "ename": "NameError",
     "evalue": "name 'Y_test' is not defined",
     "output_type": "error",
     "traceback": [
      "\u001b[1;31m---------------------------------------------------------------------------\u001b[0m",
      "\u001b[1;31mNameError\u001b[0m                                 Traceback (most recent call last)",
      "Input \u001b[1;32mIn [1]\u001b[0m, in \u001b[0;36m<cell line: 1>\u001b[1;34m()\u001b[0m\n\u001b[1;32m----> 1\u001b[0m (\u001b[43mY_test\u001b[49m \u001b[38;5;241m-\u001b[39m preds_test)\u001b[38;5;241m.\u001b[39mvar()\n",
      "\u001b[1;31mNameError\u001b[0m: name 'Y_test' is not defined"
     ]
    }
   ],
   "source": [
    "(Y_test - preds_test).var()"
   ]
  },
  {
   "cell_type": "markdown",
   "id": "f6278f66-478e-4067-8870-62ad3b3b24a0",
   "metadata": {},
   "source": [
    "<b>Nota:</b> Con la regresión lineal simple el error promedio está al rededor de 0.8 %"
   ]
  },
  {
   "cell_type": "markdown",
   "id": "bc38a8a6-c052-45a2-bd26-a7db9666cf85",
   "metadata": {},
   "source": [
    "### Regresión Lineal Polinomial (Grado 2)"
   ]
  },
  {
   "cell_type": "code",
   "execution_count": 363,
   "id": "4076c02c-3a7e-468d-bfd5-e9bc0280cfb6",
   "metadata": {},
   "outputs": [],
   "source": [
    "trans2 = PolynomialFeatures(degree=2, include_bias=False)\n",
    "poly_train2 = trans2.fit_transform(X_train_scaled)\n",
    "poly_test2 = trans2.fit_transform(X_test_scaled)"
   ]
  },
  {
   "cell_type": "code",
   "execution_count": 364,
   "id": "7d0f705f-a30f-4521-926d-be3995d74a62",
   "metadata": {},
   "outputs": [
    {
     "data": {
      "text/html": [
       "<style>#sk-container-id-15 {color: black;background-color: white;}#sk-container-id-15 pre{padding: 0;}#sk-container-id-15 div.sk-toggleable {background-color: white;}#sk-container-id-15 label.sk-toggleable__label {cursor: pointer;display: block;width: 100%;margin-bottom: 0;padding: 0.3em;box-sizing: border-box;text-align: center;}#sk-container-id-15 label.sk-toggleable__label-arrow:before {content: \"▸\";float: left;margin-right: 0.25em;color: #696969;}#sk-container-id-15 label.sk-toggleable__label-arrow:hover:before {color: black;}#sk-container-id-15 div.sk-estimator:hover label.sk-toggleable__label-arrow:before {color: black;}#sk-container-id-15 div.sk-toggleable__content {max-height: 0;max-width: 0;overflow: hidden;text-align: left;background-color: #f0f8ff;}#sk-container-id-15 div.sk-toggleable__content pre {margin: 0.2em;color: black;border-radius: 0.25em;background-color: #f0f8ff;}#sk-container-id-15 input.sk-toggleable__control:checked~div.sk-toggleable__content {max-height: 200px;max-width: 100%;overflow: auto;}#sk-container-id-15 input.sk-toggleable__control:checked~label.sk-toggleable__label-arrow:before {content: \"▾\";}#sk-container-id-15 div.sk-estimator input.sk-toggleable__control:checked~label.sk-toggleable__label {background-color: #d4ebff;}#sk-container-id-15 div.sk-label input.sk-toggleable__control:checked~label.sk-toggleable__label {background-color: #d4ebff;}#sk-container-id-15 input.sk-hidden--visually {border: 0;clip: rect(1px 1px 1px 1px);clip: rect(1px, 1px, 1px, 1px);height: 1px;margin: -1px;overflow: hidden;padding: 0;position: absolute;width: 1px;}#sk-container-id-15 div.sk-estimator {font-family: monospace;background-color: #f0f8ff;border: 1px dotted black;border-radius: 0.25em;box-sizing: border-box;margin-bottom: 0.5em;}#sk-container-id-15 div.sk-estimator:hover {background-color: #d4ebff;}#sk-container-id-15 div.sk-parallel-item::after {content: \"\";width: 100%;border-bottom: 1px solid gray;flex-grow: 1;}#sk-container-id-15 div.sk-label:hover label.sk-toggleable__label {background-color: #d4ebff;}#sk-container-id-15 div.sk-serial::before {content: \"\";position: absolute;border-left: 1px solid gray;box-sizing: border-box;top: 0;bottom: 0;left: 50%;z-index: 0;}#sk-container-id-15 div.sk-serial {display: flex;flex-direction: column;align-items: center;background-color: white;padding-right: 0.2em;padding-left: 0.2em;position: relative;}#sk-container-id-15 div.sk-item {position: relative;z-index: 1;}#sk-container-id-15 div.sk-parallel {display: flex;align-items: stretch;justify-content: center;background-color: white;position: relative;}#sk-container-id-15 div.sk-item::before, #sk-container-id-15 div.sk-parallel-item::before {content: \"\";position: absolute;border-left: 1px solid gray;box-sizing: border-box;top: 0;bottom: 0;left: 50%;z-index: -1;}#sk-container-id-15 div.sk-parallel-item {display: flex;flex-direction: column;z-index: 1;position: relative;background-color: white;}#sk-container-id-15 div.sk-parallel-item:first-child::after {align-self: flex-end;width: 50%;}#sk-container-id-15 div.sk-parallel-item:last-child::after {align-self: flex-start;width: 50%;}#sk-container-id-15 div.sk-parallel-item:only-child::after {width: 0;}#sk-container-id-15 div.sk-dashed-wrapped {border: 1px dashed gray;margin: 0 0.4em 0.5em 0.4em;box-sizing: border-box;padding-bottom: 0.4em;background-color: white;}#sk-container-id-15 div.sk-label label {font-family: monospace;font-weight: bold;display: inline-block;line-height: 1.2em;}#sk-container-id-15 div.sk-label-container {text-align: center;}#sk-container-id-15 div.sk-container {/* jupyter's `normalize.less` sets `[hidden] { display: none; }` but bootstrap.min.css set `[hidden] { display: none !important; }` so we also need the `!important` here to be able to override the default hidden behavior on the sphinx rendered scikit-learn.org. See: https://github.com/scikit-learn/scikit-learn/issues/21755 */display: inline-block !important;position: relative;}#sk-container-id-15 div.sk-text-repr-fallback {display: none;}</style><div id=\"sk-container-id-15\" class=\"sk-top-container\"><div class=\"sk-text-repr-fallback\"><pre>LinearRegression()</pre><b>In a Jupyter environment, please rerun this cell to show the HTML representation or trust the notebook. <br />On GitHub, the HTML representation is unable to render, please try loading this page with nbviewer.org.</b></div><div class=\"sk-container\" hidden><div class=\"sk-item\"><div class=\"sk-estimator sk-toggleable\"><input class=\"sk-toggleable__control sk-hidden--visually\" id=\"sk-estimator-id-15\" type=\"checkbox\" checked><label for=\"sk-estimator-id-15\" class=\"sk-toggleable__label sk-toggleable__label-arrow\">LinearRegression</label><div class=\"sk-toggleable__content\"><pre>LinearRegression()</pre></div></div></div></div></div>"
      ],
      "text/plain": [
       "LinearRegression()"
      ]
     },
     "execution_count": 364,
     "metadata": {},
     "output_type": "execute_result"
    }
   ],
   "source": [
    "lin_regPol = LinearRegression()\n",
    "lin_regPol.fit(poly_train2, Y_train)"
   ]
  },
  {
   "cell_type": "code",
   "execution_count": 365,
   "id": "e6353915-b5eb-4554-b264-11aa9988e1f6",
   "metadata": {},
   "outputs": [
    {
     "data": {
      "text/plain": [
       "array([ 1735.69854164,  -832.93515368, -2532.99232642,  -309.99401094,\n",
       "         295.89731832,    47.05199859, -1179.00624547,   217.33874786,\n",
       "        -313.09654032,   711.34788732, -1220.57069299,    -5.82068279,\n",
       "         213.78149841,   -82.22022581,  -761.49910966,  1264.14297223,\n",
       "         -30.26929028,   149.68551464,  -248.93920511,  -381.32650528,\n",
       "         150.8531497 ,  -149.63926447,    85.47646214,   -72.86454096,\n",
       "         -93.93139288,   -42.48792383,  -261.17629574])"
      ]
     },
     "execution_count": 365,
     "metadata": {},
     "output_type": "execute_result"
    }
   ],
   "source": [
    "lin_regPol.coef_"
   ]
  },
  {
   "cell_type": "code",
   "execution_count": 366,
   "id": "3c1835da-fe36-4c37-aa23-4a987ac19045",
   "metadata": {},
   "outputs": [
    {
     "data": {
      "text/plain": [
       "5581.473807850421"
      ]
     },
     "execution_count": 366,
     "metadata": {},
     "output_type": "execute_result"
    }
   ],
   "source": [
    "lin_regPol.intercept_"
   ]
  },
  {
   "cell_type": "markdown",
   "id": "a78e4da5-4f9c-431e-8d1c-85f32fc0e903",
   "metadata": {},
   "source": [
    "#### Evaluando el modelo"
   ]
  },
  {
   "cell_type": "code",
   "execution_count": 367,
   "id": "eec0e2e5-8c96-43e7-a206-91e441146b7f",
   "metadata": {},
   "outputs": [],
   "source": [
    "preds_train_poly = lin_regPol.predict(poly_train2)\n",
    "preds_test_poly = lin_regPol.predict(poly_test2)"
   ]
  },
  {
   "cell_type": "code",
   "execution_count": 368,
   "id": "3b2690a9-5955-4ae8-9f5c-7e80a8c36c9a",
   "metadata": {},
   "outputs": [
    {
     "data": {
      "text/plain": [
       "(1014.112354482923, 1155.1871017686658)"
      ]
     },
     "execution_count": 368,
     "metadata": {},
     "output_type": "execute_result"
    }
   ],
   "source": [
    "mean_absolute_error(Y_train, preds_train_poly), mean_absolute_error(Y_test, preds_test_poly)"
   ]
  },
  {
   "cell_type": "code",
   "execution_count": 369,
   "id": "2c16412e-ad34-48b9-9259-7a42872abda4",
   "metadata": {},
   "outputs": [
    {
     "data": {
      "text/plain": [
       "(1181.5260935629724, 1294.4218083341593)"
      ]
     },
     "execution_count": 369,
     "metadata": {},
     "output_type": "execute_result"
    }
   ],
   "source": [
    "np.sqrt(mean_squared_error(Y_train, preds_train_poly)), np.sqrt(mean_squared_error(Y_test, preds_test_poly))"
   ]
  },
  {
   "cell_type": "markdown",
   "id": "cbaf6abb-35ac-4f8f-81a0-42f542dbc2b2",
   "metadata": {},
   "source": [
    "#### Análisis del Error"
   ]
  },
  {
   "cell_type": "code",
   "execution_count": 370,
   "id": "513ab97e-c911-4a13-a248-0a433e4920cc",
   "metadata": {},
   "outputs": [
    {
     "data": {
      "text/plain": [
       "count     146.000000\n",
       "mean       79.371229\n",
       "std      1296.433548\n",
       "min     -2152.443361\n",
       "25%     -1146.034313\n",
       "50%        37.533580\n",
       "75%      1240.710735\n",
       "95%      1947.788820\n",
       "99%      2464.036461\n",
       "max      3127.681119\n",
       "Name: cnt, dtype: float64"
      ]
     },
     "execution_count": 370,
     "metadata": {},
     "output_type": "execute_result"
    }
   ],
   "source": [
    "(Y_test - preds_test_poly).describe(percentiles = [.25, .5, .75, .95, .99])"
   ]
  },
  {
   "cell_type": "code",
   "execution_count": 371,
   "id": "e0171ca1-3e52-441a-8172-0e98ebf3bd8d",
   "metadata": {},
   "outputs": [
    {
     "data": {
      "text/plain": [
       "1680739.9433343227"
      ]
     },
     "execution_count": 371,
     "metadata": {},
     "output_type": "execute_result"
    }
   ],
   "source": [
    "(Y_test - preds_test_poly).var()"
   ]
  },
  {
   "cell_type": "markdown",
   "id": "fe49f4f3-0c07-4bfb-b8a8-1e458bdde0e2",
   "metadata": {},
   "source": [
    "<b>Nota:</b> Con la regresión lineal polinomial el error promedio aumento a 1.76 % y sigue aumentado con grados mayores"
   ]
  },
  {
   "cell_type": "markdown",
   "id": "9998ef9a-8564-4ddd-bc9c-839a3e0b6e75",
   "metadata": {},
   "source": [
    "### Regresión Lineal Simple con Regularización Ridge (alpha = 100)"
   ]
  },
  {
   "cell_type": "code",
   "execution_count": 424,
   "id": "2459b895-83d5-43e6-bb18-70db4acbd284",
   "metadata": {},
   "outputs": [
    {
     "data": {
      "text/html": [
       "<style>#sk-container-id-23 {color: black;background-color: white;}#sk-container-id-23 pre{padding: 0;}#sk-container-id-23 div.sk-toggleable {background-color: white;}#sk-container-id-23 label.sk-toggleable__label {cursor: pointer;display: block;width: 100%;margin-bottom: 0;padding: 0.3em;box-sizing: border-box;text-align: center;}#sk-container-id-23 label.sk-toggleable__label-arrow:before {content: \"▸\";float: left;margin-right: 0.25em;color: #696969;}#sk-container-id-23 label.sk-toggleable__label-arrow:hover:before {color: black;}#sk-container-id-23 div.sk-estimator:hover label.sk-toggleable__label-arrow:before {color: black;}#sk-container-id-23 div.sk-toggleable__content {max-height: 0;max-width: 0;overflow: hidden;text-align: left;background-color: #f0f8ff;}#sk-container-id-23 div.sk-toggleable__content pre {margin: 0.2em;color: black;border-radius: 0.25em;background-color: #f0f8ff;}#sk-container-id-23 input.sk-toggleable__control:checked~div.sk-toggleable__content {max-height: 200px;max-width: 100%;overflow: auto;}#sk-container-id-23 input.sk-toggleable__control:checked~label.sk-toggleable__label-arrow:before {content: \"▾\";}#sk-container-id-23 div.sk-estimator input.sk-toggleable__control:checked~label.sk-toggleable__label {background-color: #d4ebff;}#sk-container-id-23 div.sk-label input.sk-toggleable__control:checked~label.sk-toggleable__label {background-color: #d4ebff;}#sk-container-id-23 input.sk-hidden--visually {border: 0;clip: rect(1px 1px 1px 1px);clip: rect(1px, 1px, 1px, 1px);height: 1px;margin: -1px;overflow: hidden;padding: 0;position: absolute;width: 1px;}#sk-container-id-23 div.sk-estimator {font-family: monospace;background-color: #f0f8ff;border: 1px dotted black;border-radius: 0.25em;box-sizing: border-box;margin-bottom: 0.5em;}#sk-container-id-23 div.sk-estimator:hover {background-color: #d4ebff;}#sk-container-id-23 div.sk-parallel-item::after {content: \"\";width: 100%;border-bottom: 1px solid gray;flex-grow: 1;}#sk-container-id-23 div.sk-label:hover label.sk-toggleable__label {background-color: #d4ebff;}#sk-container-id-23 div.sk-serial::before {content: \"\";position: absolute;border-left: 1px solid gray;box-sizing: border-box;top: 0;bottom: 0;left: 50%;z-index: 0;}#sk-container-id-23 div.sk-serial {display: flex;flex-direction: column;align-items: center;background-color: white;padding-right: 0.2em;padding-left: 0.2em;position: relative;}#sk-container-id-23 div.sk-item {position: relative;z-index: 1;}#sk-container-id-23 div.sk-parallel {display: flex;align-items: stretch;justify-content: center;background-color: white;position: relative;}#sk-container-id-23 div.sk-item::before, #sk-container-id-23 div.sk-parallel-item::before {content: \"\";position: absolute;border-left: 1px solid gray;box-sizing: border-box;top: 0;bottom: 0;left: 50%;z-index: -1;}#sk-container-id-23 div.sk-parallel-item {display: flex;flex-direction: column;z-index: 1;position: relative;background-color: white;}#sk-container-id-23 div.sk-parallel-item:first-child::after {align-self: flex-end;width: 50%;}#sk-container-id-23 div.sk-parallel-item:last-child::after {align-self: flex-start;width: 50%;}#sk-container-id-23 div.sk-parallel-item:only-child::after {width: 0;}#sk-container-id-23 div.sk-dashed-wrapped {border: 1px dashed gray;margin: 0 0.4em 0.5em 0.4em;box-sizing: border-box;padding-bottom: 0.4em;background-color: white;}#sk-container-id-23 div.sk-label label {font-family: monospace;font-weight: bold;display: inline-block;line-height: 1.2em;}#sk-container-id-23 div.sk-label-container {text-align: center;}#sk-container-id-23 div.sk-container {/* jupyter's `normalize.less` sets `[hidden] { display: none; }` but bootstrap.min.css set `[hidden] { display: none !important; }` so we also need the `!important` here to be able to override the default hidden behavior on the sphinx rendered scikit-learn.org. See: https://github.com/scikit-learn/scikit-learn/issues/21755 */display: inline-block !important;position: relative;}#sk-container-id-23 div.sk-text-repr-fallback {display: none;}</style><div id=\"sk-container-id-23\" class=\"sk-top-container\"><div class=\"sk-text-repr-fallback\"><pre>Ridge(alpha=100, solver=&#x27;cholesky&#x27;)</pre><b>In a Jupyter environment, please rerun this cell to show the HTML representation or trust the notebook. <br />On GitHub, the HTML representation is unable to render, please try loading this page with nbviewer.org.</b></div><div class=\"sk-container\" hidden><div class=\"sk-item\"><div class=\"sk-estimator sk-toggleable\"><input class=\"sk-toggleable__control sk-hidden--visually\" id=\"sk-estimator-id-23\" type=\"checkbox\" checked><label for=\"sk-estimator-id-23\" class=\"sk-toggleable__label sk-toggleable__label-arrow\">Ridge</label><div class=\"sk-toggleable__content\"><pre>Ridge(alpha=100, solver=&#x27;cholesky&#x27;)</pre></div></div></div></div></div>"
      ],
      "text/plain": [
       "Ridge(alpha=100, solver='cholesky')"
      ]
     },
     "execution_count": 424,
     "metadata": {},
     "output_type": "execute_result"
    }
   ],
   "source": [
    "ridge_reg1 = Ridge(alpha=100, solver=\"cholesky\")\n",
    "ridge_reg1.fit(X_train_scaled, Y_train)"
   ]
  },
  {
   "cell_type": "code",
   "execution_count": 425,
   "id": "1f6eb6c3-4e9c-47f6-a990-33d6e5896d8f",
   "metadata": {},
   "outputs": [
    {
     "data": {
      "text/plain": [
       "array([ 458.12382756,  456.33900964,  -42.71350256, -136.56610516,\n",
       "        325.8185616 , -379.4157507 ])"
      ]
     },
     "execution_count": 425,
     "metadata": {},
     "output_type": "execute_result"
    }
   ],
   "source": [
    "ridge_reg1.coef_"
   ]
  },
  {
   "cell_type": "code",
   "execution_count": 426,
   "id": "f2c4be42-1e7b-4fbd-bead-da1888af4d7b",
   "metadata": {},
   "outputs": [
    {
     "data": {
      "text/plain": [
       "4547.921232876713"
      ]
     },
     "execution_count": 426,
     "metadata": {},
     "output_type": "execute_result"
    }
   ],
   "source": [
    "ridge_reg1.intercept_"
   ]
  },
  {
   "cell_type": "markdown",
   "id": "2452751d-04cf-4d61-808b-1b8e268f4f3a",
   "metadata": {},
   "source": [
    "#### Evaluando el modelo"
   ]
  },
  {
   "cell_type": "code",
   "execution_count": 427,
   "id": "1e08ddfb-2c37-40ac-81c9-44eec54dfb5d",
   "metadata": {},
   "outputs": [],
   "source": [
    "preds_train_ridge1 = ridge_reg1.predict(X_train_scaled)\n",
    "preds_test_ridge1 = ridge_reg1.predict(X_test_scaled)"
   ]
  },
  {
   "cell_type": "code",
   "execution_count": 428,
   "id": "2f3448d4-3bf0-44c0-ad54-c5fa016ef271",
   "metadata": {},
   "outputs": [
    {
     "data": {
      "text/plain": [
       "(1185.6623003792672, 1118.1801896460554)"
      ]
     },
     "execution_count": 428,
     "metadata": {},
     "output_type": "execute_result"
    }
   ],
   "source": [
    "mean_absolute_error(Y_train, preds_train_ridge1), mean_absolute_error(Y_test, preds_test_ridge1)"
   ]
  },
  {
   "cell_type": "code",
   "execution_count": 429,
   "id": "c36bfc4d-6e5d-462e-a482-9c2186aca8d4",
   "metadata": {},
   "outputs": [
    {
     "data": {
      "text/plain": [
       "(1401.1469446768006, 1279.6782476401515)"
      ]
     },
     "execution_count": 429,
     "metadata": {},
     "output_type": "execute_result"
    }
   ],
   "source": [
    "np.sqrt(mean_squared_error(Y_train, preds_train_ridge1)), np.sqrt(mean_squared_error(Y_test, preds_test_ridge1))"
   ]
  },
  {
   "cell_type": "markdown",
   "id": "9e156b0d-d8c4-4d7a-9d56-fd3aaf74d879",
   "metadata": {},
   "source": [
    "#### Análisis del Error"
   ]
  },
  {
   "cell_type": "code",
   "execution_count": 430,
   "id": "48e9d586-9562-4762-b558-8b5365604842",
   "metadata": {},
   "outputs": [
    {
     "data": {
      "text/plain": [
       "count     146.000000\n",
       "mean       21.904152\n",
       "std      1283.895224\n",
       "min     -2522.204755\n",
       "25%     -1005.447745\n",
       "50%      -306.464287\n",
       "75%       984.802314\n",
       "95%      2241.782188\n",
       "99%      2678.225136\n",
       "max      2886.228048\n",
       "Name: cnt, dtype: float64"
      ]
     },
     "execution_count": 430,
     "metadata": {},
     "output_type": "execute_result"
    }
   ],
   "source": [
    "(Y_test - preds_test_ridge1).describe(percentiles = [.25, .5, .75, .95, .99])"
   ]
  },
  {
   "cell_type": "code",
   "execution_count": 431,
   "id": "d1efb3a4-0f34-4e2d-888c-54986933e8cc",
   "metadata": {},
   "outputs": [
    {
     "data": {
      "text/plain": [
       "1648386.9471751966"
      ]
     },
     "execution_count": 431,
     "metadata": {},
     "output_type": "execute_result"
    }
   ],
   "source": [
    "(Y_test - preds_test_ridge1).var()"
   ]
  },
  {
   "cell_type": "markdown",
   "id": "5d65f633-b100-4633-b5f4-ecff16c3c7a8",
   "metadata": {},
   "source": [
    "<b>Nota:</b> Con la regresión lineal simple con regularización (alfa =100) el error promedio disminuyó a 0.48 %"
   ]
  },
  {
   "cell_type": "code",
   "execution_count": null,
   "id": "89715c88-98ba-4dea-976e-3a090db1ff82",
   "metadata": {},
   "outputs": [],
   "source": []
  }
 ],
 "metadata": {
  "kernelspec": {
   "display_name": "Python 3 (ipykernel)",
   "language": "python",
   "name": "python3"
  },
  "language_info": {
   "codemirror_mode": {
    "name": "ipython",
    "version": 3
   },
   "file_extension": ".py",
   "mimetype": "text/x-python",
   "name": "python",
   "nbconvert_exporter": "python",
   "pygments_lexer": "ipython3",
   "version": "3.9.12"
  }
 },
 "nbformat": 4,
 "nbformat_minor": 5
}
